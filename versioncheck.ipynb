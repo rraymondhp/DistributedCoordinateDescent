{
 "cells": [
  {
   "cell_type": "code",
   "execution_count": 1,
   "id": "5cbdcbcc-f88a-4348-9ce6-80eb38bc273b",
   "metadata": {},
   "outputs": [
    {
     "data": {
      "text/plain": [
       "'/Users/rraymondhp/Downloads/NewMBP/202305KoyasuFraxis'"
      ]
     },
     "execution_count": 1,
     "metadata": {},
     "output_type": "execute_result"
    }
   ],
   "source": [
    "import sys\n",
    "import os\n",
    "os.getcwd()"
   ]
  },
  {
   "cell_type": "code",
   "execution_count": 2,
   "id": "9509dd76",
   "metadata": {},
   "outputs": [
    {
     "name": "stdout",
     "output_type": "stream",
     "text": [
      "Requirement already satisfied: qiskit-ibm-runtime in /Users/rraymondhp/Downloads/NewMBP/pythonvenv/lib/python3.11/site-packages (0.10.0)\n",
      "Requirement already satisfied: qiskit-terra>=0.24.0 in /Users/rraymondhp/Downloads/NewMBP/pythonvenv/lib/python3.11/site-packages (from qiskit-ibm-runtime) (0.24.0)\n",
      "Requirement already satisfied: requests>=2.19 in /Users/rraymondhp/Downloads/NewMBP/pythonvenv/lib/python3.11/site-packages (from qiskit-ibm-runtime) (2.30.0)\n",
      "Requirement already satisfied: requests-ntlm>=1.1.0 in /Users/rraymondhp/Downloads/NewMBP/pythonvenv/lib/python3.11/site-packages (from qiskit-ibm-runtime) (1.1.0)\n",
      "Requirement already satisfied: numpy>=1.13 in /Users/rraymondhp/Downloads/NewMBP/pythonvenv/lib/python3.11/site-packages (from qiskit-ibm-runtime) (1.23.5)\n",
      "Requirement already satisfied: urllib3>=1.21.1 in /Users/rraymondhp/Downloads/NewMBP/pythonvenv/lib/python3.11/site-packages (from qiskit-ibm-runtime) (1.26.15)\n",
      "Requirement already satisfied: python-dateutil>=2.8.0 in /Users/rraymondhp/Downloads/NewMBP/pythonvenv/lib/python3.11/site-packages (from qiskit-ibm-runtime) (2.8.2)\n",
      "Requirement already satisfied: websocket-client>=1.5.1 in /Users/rraymondhp/Downloads/NewMBP/pythonvenv/lib/python3.11/site-packages (from qiskit-ibm-runtime) (1.5.1)\n",
      "Requirement already satisfied: ibm-platform-services>=0.22.6 in /Users/rraymondhp/Downloads/NewMBP/pythonvenv/lib/python3.11/site-packages (from qiskit-ibm-runtime) (0.34.2)\n",
      "Requirement already satisfied: ibm-cloud-sdk-core<4.0.0,>=3.16.5 in /Users/rraymondhp/Downloads/NewMBP/pythonvenv/lib/python3.11/site-packages (from ibm-platform-services>=0.22.6->qiskit-ibm-runtime) (3.16.5)\n",
      "Requirement already satisfied: six>=1.5 in /Users/rraymondhp/Downloads/NewMBP/pythonvenv/lib/python3.11/site-packages (from python-dateutil>=2.8.0->qiskit-ibm-runtime) (1.16.0)\n",
      "Requirement already satisfied: rustworkx>=0.12.0 in /Users/rraymondhp/Downloads/NewMBP/pythonvenv/lib/python3.11/site-packages (from qiskit-terra>=0.24.0->qiskit-ibm-runtime) (0.12.1)\n",
      "Requirement already satisfied: ply>=3.10 in /Users/rraymondhp/Downloads/NewMBP/pythonvenv/lib/python3.11/site-packages (from qiskit-terra>=0.24.0->qiskit-ibm-runtime) (3.11)\n",
      "Requirement already satisfied: psutil>=5 in /Users/rraymondhp/Downloads/NewMBP/pythonvenv/lib/python3.11/site-packages (from qiskit-terra>=0.24.0->qiskit-ibm-runtime) (5.9.5)\n",
      "Requirement already satisfied: scipy>=1.5 in /Users/rraymondhp/Downloads/NewMBP/pythonvenv/lib/python3.11/site-packages (from qiskit-terra>=0.24.0->qiskit-ibm-runtime) (1.10.1)\n",
      "Requirement already satisfied: sympy>=1.3 in /Users/rraymondhp/Downloads/NewMBP/pythonvenv/lib/python3.11/site-packages (from qiskit-terra>=0.24.0->qiskit-ibm-runtime) (1.12)\n",
      "Requirement already satisfied: dill>=0.3 in /Users/rraymondhp/Downloads/NewMBP/pythonvenv/lib/python3.11/site-packages (from qiskit-terra>=0.24.0->qiskit-ibm-runtime) (0.3.6)\n",
      "Requirement already satisfied: stevedore>=3.0.0 in /Users/rraymondhp/Downloads/NewMBP/pythonvenv/lib/python3.11/site-packages (from qiskit-terra>=0.24.0->qiskit-ibm-runtime) (5.1.0)\n",
      "Requirement already satisfied: symengine<0.10,>=0.9 in /Users/rraymondhp/Downloads/NewMBP/pythonvenv/lib/python3.11/site-packages (from qiskit-terra>=0.24.0->qiskit-ibm-runtime) (0.9.2)\n",
      "Requirement already satisfied: charset-normalizer<4,>=2 in /Users/rraymondhp/Downloads/NewMBP/pythonvenv/lib/python3.11/site-packages (from requests>=2.19->qiskit-ibm-runtime) (3.1.0)\n",
      "Requirement already satisfied: idna<4,>=2.5 in /Users/rraymondhp/Downloads/NewMBP/pythonvenv/lib/python3.11/site-packages (from requests>=2.19->qiskit-ibm-runtime) (3.4)\n",
      "Requirement already satisfied: certifi>=2017.4.17 in /Users/rraymondhp/Downloads/NewMBP/pythonvenv/lib/python3.11/site-packages (from requests>=2.19->qiskit-ibm-runtime) (2023.5.7)\n",
      "Requirement already satisfied: ntlm-auth>=1.0.2 in /Users/rraymondhp/Downloads/NewMBP/pythonvenv/lib/python3.11/site-packages (from requests-ntlm>=1.1.0->qiskit-ibm-runtime) (1.5.0)\n",
      "Requirement already satisfied: cryptography>=1.3 in /Users/rraymondhp/Downloads/NewMBP/pythonvenv/lib/python3.11/site-packages (from requests-ntlm>=1.1.0->qiskit-ibm-runtime) (40.0.2)\n",
      "Requirement already satisfied: cffi>=1.12 in /Users/rraymondhp/Downloads/NewMBP/pythonvenv/lib/python3.11/site-packages (from cryptography>=1.3->requests-ntlm>=1.1.0->qiskit-ibm-runtime) (1.15.1)\n",
      "Requirement already satisfied: PyJWT<3.0.0,>=2.4.0 in /Users/rraymondhp/Downloads/NewMBP/pythonvenv/lib/python3.11/site-packages (from ibm-cloud-sdk-core<4.0.0,>=3.16.5->ibm-platform-services>=0.22.6->qiskit-ibm-runtime) (2.7.0)\n",
      "Requirement already satisfied: pbr!=2.1.0,>=2.0.0 in /Users/rraymondhp/Downloads/NewMBP/pythonvenv/lib/python3.11/site-packages (from stevedore>=3.0.0->qiskit-terra>=0.24.0->qiskit-ibm-runtime) (5.11.1)\n",
      "Requirement already satisfied: mpmath>=0.19 in /Users/rraymondhp/Downloads/NewMBP/pythonvenv/lib/python3.11/site-packages (from sympy>=1.3->qiskit-terra>=0.24.0->qiskit-ibm-runtime) (1.3.0)\n",
      "Requirement already satisfied: pycparser in /Users/rraymondhp/Downloads/NewMBP/pythonvenv/lib/python3.11/site-packages (from cffi>=1.12->cryptography>=1.3->requests-ntlm>=1.1.0->qiskit-ibm-runtime) (2.21)\n"
     ]
    }
   ],
   "source": [
    "!pip install -U qiskit-ibm-runtime"
   ]
  },
  {
   "cell_type": "code",
   "execution_count": 3,
   "id": "7da259cf",
   "metadata": {},
   "outputs": [
    {
     "name": "stdout",
     "output_type": "stream",
     "text": [
      "Requirement already satisfied: qiskit-ibm-provider in /Users/rraymondhp/Downloads/NewMBP/pythonvenv/lib/python3.11/site-packages (0.6.0)\n",
      "Requirement already satisfied: qiskit-terra>=0.24.0 in /Users/rraymondhp/Downloads/NewMBP/pythonvenv/lib/python3.11/site-packages (from qiskit-ibm-provider) (0.24.0)\n",
      "Requirement already satisfied: requests>=2.19 in /Users/rraymondhp/Downloads/NewMBP/pythonvenv/lib/python3.11/site-packages (from qiskit-ibm-provider) (2.30.0)\n",
      "Requirement already satisfied: requests-ntlm>=1.1.0 in /Users/rraymondhp/Downloads/NewMBP/pythonvenv/lib/python3.11/site-packages (from qiskit-ibm-provider) (1.1.0)\n",
      "Requirement already satisfied: numpy>=1.13 in /Users/rraymondhp/Downloads/NewMBP/pythonvenv/lib/python3.11/site-packages (from qiskit-ibm-provider) (1.23.5)\n",
      "Requirement already satisfied: urllib3>=1.21.1 in /Users/rraymondhp/Downloads/NewMBP/pythonvenv/lib/python3.11/site-packages (from qiskit-ibm-provider) (1.26.15)\n",
      "Requirement already satisfied: python-dateutil>=2.8.0 in /Users/rraymondhp/Downloads/NewMBP/pythonvenv/lib/python3.11/site-packages (from qiskit-ibm-provider) (2.8.2)\n",
      "Requirement already satisfied: websocket-client>=1.5.1 in /Users/rraymondhp/Downloads/NewMBP/pythonvenv/lib/python3.11/site-packages (from qiskit-ibm-provider) (1.5.1)\n",
      "Requirement already satisfied: websockets>=10.0 in /Users/rraymondhp/Downloads/NewMBP/pythonvenv/lib/python3.11/site-packages (from qiskit-ibm-provider) (11.0.3)\n",
      "Requirement already satisfied: typing-extensions>=4.3 in /Users/rraymondhp/Downloads/NewMBP/pythonvenv/lib/python3.11/site-packages (from qiskit-ibm-provider) (4.5.0)\n",
      "Requirement already satisfied: six>=1.5 in /Users/rraymondhp/Downloads/NewMBP/pythonvenv/lib/python3.11/site-packages (from python-dateutil>=2.8.0->qiskit-ibm-provider) (1.16.0)\n",
      "Requirement already satisfied: rustworkx>=0.12.0 in /Users/rraymondhp/Downloads/NewMBP/pythonvenv/lib/python3.11/site-packages (from qiskit-terra>=0.24.0->qiskit-ibm-provider) (0.12.1)\n",
      "Requirement already satisfied: ply>=3.10 in /Users/rraymondhp/Downloads/NewMBP/pythonvenv/lib/python3.11/site-packages (from qiskit-terra>=0.24.0->qiskit-ibm-provider) (3.11)\n",
      "Requirement already satisfied: psutil>=5 in /Users/rraymondhp/Downloads/NewMBP/pythonvenv/lib/python3.11/site-packages (from qiskit-terra>=0.24.0->qiskit-ibm-provider) (5.9.5)\n",
      "Requirement already satisfied: scipy>=1.5 in /Users/rraymondhp/Downloads/NewMBP/pythonvenv/lib/python3.11/site-packages (from qiskit-terra>=0.24.0->qiskit-ibm-provider) (1.10.1)\n",
      "Requirement already satisfied: sympy>=1.3 in /Users/rraymondhp/Downloads/NewMBP/pythonvenv/lib/python3.11/site-packages (from qiskit-terra>=0.24.0->qiskit-ibm-provider) (1.12)\n",
      "Requirement already satisfied: dill>=0.3 in /Users/rraymondhp/Downloads/NewMBP/pythonvenv/lib/python3.11/site-packages (from qiskit-terra>=0.24.0->qiskit-ibm-provider) (0.3.6)\n",
      "Requirement already satisfied: stevedore>=3.0.0 in /Users/rraymondhp/Downloads/NewMBP/pythonvenv/lib/python3.11/site-packages (from qiskit-terra>=0.24.0->qiskit-ibm-provider) (5.1.0)\n",
      "Requirement already satisfied: symengine<0.10,>=0.9 in /Users/rraymondhp/Downloads/NewMBP/pythonvenv/lib/python3.11/site-packages (from qiskit-terra>=0.24.0->qiskit-ibm-provider) (0.9.2)\n",
      "Requirement already satisfied: charset-normalizer<4,>=2 in /Users/rraymondhp/Downloads/NewMBP/pythonvenv/lib/python3.11/site-packages (from requests>=2.19->qiskit-ibm-provider) (3.1.0)\n",
      "Requirement already satisfied: idna<4,>=2.5 in /Users/rraymondhp/Downloads/NewMBP/pythonvenv/lib/python3.11/site-packages (from requests>=2.19->qiskit-ibm-provider) (3.4)\n",
      "Requirement already satisfied: certifi>=2017.4.17 in /Users/rraymondhp/Downloads/NewMBP/pythonvenv/lib/python3.11/site-packages (from requests>=2.19->qiskit-ibm-provider) (2023.5.7)\n",
      "Requirement already satisfied: ntlm-auth>=1.0.2 in /Users/rraymondhp/Downloads/NewMBP/pythonvenv/lib/python3.11/site-packages (from requests-ntlm>=1.1.0->qiskit-ibm-provider) (1.5.0)\n",
      "Requirement already satisfied: cryptography>=1.3 in /Users/rraymondhp/Downloads/NewMBP/pythonvenv/lib/python3.11/site-packages (from requests-ntlm>=1.1.0->qiskit-ibm-provider) (40.0.2)\n",
      "Requirement already satisfied: cffi>=1.12 in /Users/rraymondhp/Downloads/NewMBP/pythonvenv/lib/python3.11/site-packages (from cryptography>=1.3->requests-ntlm>=1.1.0->qiskit-ibm-provider) (1.15.1)\n",
      "Requirement already satisfied: pbr!=2.1.0,>=2.0.0 in /Users/rraymondhp/Downloads/NewMBP/pythonvenv/lib/python3.11/site-packages (from stevedore>=3.0.0->qiskit-terra>=0.24.0->qiskit-ibm-provider) (5.11.1)\n",
      "Requirement already satisfied: mpmath>=0.19 in /Users/rraymondhp/Downloads/NewMBP/pythonvenv/lib/python3.11/site-packages (from sympy>=1.3->qiskit-terra>=0.24.0->qiskit-ibm-provider) (1.3.0)\n",
      "Requirement already satisfied: pycparser in /Users/rraymondhp/Downloads/NewMBP/pythonvenv/lib/python3.11/site-packages (from cffi>=1.12->cryptography>=1.3->requests-ntlm>=1.1.0->qiskit-ibm-provider) (2.21)\n"
     ]
    }
   ],
   "source": [
    "!pip install -U qiskit-ibm-provider"
   ]
  },
  {
   "cell_type": "code",
   "execution_count": 4,
   "id": "b949fc85",
   "metadata": {},
   "outputs": [
    {
     "name": "stdout",
     "output_type": "stream",
     "text": [
      "Requirement already satisfied: scikit-learn in /Users/rraymondhp/Downloads/NewMBP/pythonvenv/lib/python3.11/site-packages (1.2.2)\n",
      "Requirement already satisfied: numpy>=1.17.3 in /Users/rraymondhp/Downloads/NewMBP/pythonvenv/lib/python3.11/site-packages (from scikit-learn) (1.23.5)\n",
      "Requirement already satisfied: scipy>=1.3.2 in /Users/rraymondhp/Downloads/NewMBP/pythonvenv/lib/python3.11/site-packages (from scikit-learn) (1.10.1)\n",
      "Requirement already satisfied: joblib>=1.1.1 in /Users/rraymondhp/Downloads/NewMBP/pythonvenv/lib/python3.11/site-packages (from scikit-learn) (1.2.0)\n",
      "Requirement already satisfied: threadpoolctl>=2.0.0 in /Users/rraymondhp/Downloads/NewMBP/pythonvenv/lib/python3.11/site-packages (from scikit-learn) (3.1.0)\n"
     ]
    }
   ],
   "source": [
    "!pip install scikit-learn"
   ]
  },
  {
   "cell_type": "code",
   "execution_count": 5,
   "id": "9be270ba-b0a2-406a-9ed6-9834041eb80c",
   "metadata": {},
   "outputs": [],
   "source": [
    "import sys\n",
    "sys.path.append('/Users/rraymondhp/Downloads/NewMBP/202305KoyasuFraxis')\n",
    "import os\n",
    "from training_molecules import parallel_train\n",
    "import time\n",
    "import numpy as np"
   ]
  },
  {
   "cell_type": "code",
   "execution_count": 6,
   "id": "a7f3baf2-85ff-456f-b630-48d760e91ea2",
   "metadata": {},
   "outputs": [],
   "source": [
    "from qiskit_ibm_runtime import QiskitRuntimeService\n",
    "\n",
    "# Save your credentials on disk.\n",
    "#QiskitRuntimeService.save_account(channel='ibm_quantum', token=\"24dd9c19c7cd0fdd2d43d0067893c68c0b5071603ce40c22b3c0c8c04af923f0d276472ad3ffd19e3478c84902f574d79d358c0ae698d79abf876053709b1eb8\")\n",
    "\n",
    "service = QiskitRuntimeService(\n",
    "    channel='ibm_quantum',\n",
    "    instance='ibm-q-utokyo/internal/hirashi-jst',\n",
    ")\n",
    "\n",
    "#service = QiskitRuntimeService(\n",
    "#    channel='ibm_quantum',\n",
    "#    instance='ibm-q-utokyo/internal/cs-slecture8',\n",
    "#)"
   ]
  },
  {
   "cell_type": "code",
   "execution_count": 7,
   "id": "f0260f61-ad66-4395-8db7-99204235c6cd",
   "metadata": {},
   "outputs": [],
   "source": [
    "Q = 2 #number of qubits\n",
    "L = 2 #number of fraxis layer\n",
    "W = 13#number of quantum node\n",
    "N = 100 #number of training data size\n",
    "M = 3600 #number of testing data size\n",
    "U = 2  #number of update\n",
    "atomNo = 45\n",
    "#backend = service.backend('ibm_kawasaki')\n",
    "#backend = service.backend('simulator_mps')\n",
    "backend = service.backend('ibm_seattle')\n",
    "params = np.zeros((L, Q, 3))+np.array([0., 0., 1.])"
   ]
  },
  {
   "cell_type": "code",
   "execution_count": 9,
   "id": "1eb343d5",
   "metadata": {},
   "outputs": [
    {
     "data": {
      "text/plain": [
       "{'qiskit-terra': '0.24.0', 'qiskit-aer': '0.12.0', 'qiskit-ignis': None, 'qiskit-ibmq-provider': '0.20.2', 'qiskit': '0.43.0', 'qiskit-nature': None, 'qiskit-finance': None, 'qiskit-optimization': None, 'qiskit-machine-learning': None}"
      ]
     },
     "execution_count": 9,
     "metadata": {},
     "output_type": "execute_result"
    }
   ],
   "source": [
    "import qiskit\n",
    "qiskit.__qiskit_version__"
   ]
  },
  {
   "cell_type": "code",
   "execution_count": null,
   "id": "039acf71-83a6-404d-9c95-022854ba035b",
   "metadata": {},
   "outputs": [],
   "source": [
    "%tb"
   ]
  },
  {
   "cell_type": "code",
   "execution_count": null,
   "id": "86d6c4f4-6b97-4624-9e19-f8a3464efb00",
   "metadata": {},
   "outputs": [],
   "source": []
  }
 ],
 "metadata": {
  "kernelspec": {
   "display_name": "Python 3 (ipykernel)",
   "language": "python",
   "name": "python3"
  },
  "language_info": {
   "codemirror_mode": {
    "name": "ipython",
    "version": 3
   },
   "file_extension": ".py",
   "mimetype": "text/x-python",
   "name": "python",
   "nbconvert_exporter": "python",
   "pygments_lexer": "ipython3",
   "version": "3.11.2"
  },
  "widgets": {
   "application/vnd.jupyter.widget-state+json": {
    "state": {},
    "version_major": 2,
    "version_minor": 0
   }
  }
 },
 "nbformat": 4,
 "nbformat_minor": 5
}
