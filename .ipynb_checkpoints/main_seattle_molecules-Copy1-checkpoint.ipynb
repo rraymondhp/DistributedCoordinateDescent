{
 "cells": [
  {
   "cell_type": "code",
   "execution_count": 1,
   "id": "5cbdcbcc-f88a-4348-9ce6-80eb38bc273b",
   "metadata": {},
   "outputs": [
    {
     "data": {
      "text/plain": [
       "'/Users/rraymondhp/Downloads/NewMBP/202305KoyasuFraxis'"
      ]
     },
     "execution_count": 1,
     "metadata": {},
     "output_type": "execute_result"
    }
   ],
   "source": [
    "import sys\n",
    "import os\n",
    "os.getcwd()"
   ]
  },
  {
   "cell_type": "code",
   "execution_count": 2,
   "id": "9509dd76",
   "metadata": {},
   "outputs": [
    {
     "name": "stdout",
     "output_type": "stream",
     "text": [
      "Requirement already satisfied: qiskit-ibm-runtime in /Users/rraymondhp/Downloads/NewMBP/pythonvenv/lib/python3.11/site-packages (0.10.0)\n",
      "Requirement already satisfied: qiskit-terra>=0.24.0 in /Users/rraymondhp/Downloads/NewMBP/pythonvenv/lib/python3.11/site-packages (from qiskit-ibm-runtime) (0.24.0)\n",
      "Requirement already satisfied: requests>=2.19 in /Users/rraymondhp/Downloads/NewMBP/pythonvenv/lib/python3.11/site-packages (from qiskit-ibm-runtime) (2.30.0)\n",
      "Requirement already satisfied: requests-ntlm>=1.1.0 in /Users/rraymondhp/Downloads/NewMBP/pythonvenv/lib/python3.11/site-packages (from qiskit-ibm-runtime) (1.1.0)\n",
      "Requirement already satisfied: numpy>=1.13 in /Users/rraymondhp/Downloads/NewMBP/pythonvenv/lib/python3.11/site-packages (from qiskit-ibm-runtime) (1.23.5)\n",
      "Requirement already satisfied: urllib3>=1.21.1 in /Users/rraymondhp/Downloads/NewMBP/pythonvenv/lib/python3.11/site-packages (from qiskit-ibm-runtime) (1.26.15)\n",
      "Requirement already satisfied: python-dateutil>=2.8.0 in /Users/rraymondhp/Downloads/NewMBP/pythonvenv/lib/python3.11/site-packages (from qiskit-ibm-runtime) (2.8.2)\n",
      "Requirement already satisfied: websocket-client>=1.5.1 in /Users/rraymondhp/Downloads/NewMBP/pythonvenv/lib/python3.11/site-packages (from qiskit-ibm-runtime) (1.5.1)\n",
      "Requirement already satisfied: ibm-platform-services>=0.22.6 in /Users/rraymondhp/Downloads/NewMBP/pythonvenv/lib/python3.11/site-packages (from qiskit-ibm-runtime) (0.34.2)\n",
      "Requirement already satisfied: ibm-cloud-sdk-core<4.0.0,>=3.16.5 in /Users/rraymondhp/Downloads/NewMBP/pythonvenv/lib/python3.11/site-packages (from ibm-platform-services>=0.22.6->qiskit-ibm-runtime) (3.16.5)\n",
      "Requirement already satisfied: six>=1.5 in /Users/rraymondhp/Downloads/NewMBP/pythonvenv/lib/python3.11/site-packages (from python-dateutil>=2.8.0->qiskit-ibm-runtime) (1.16.0)\n",
      "Requirement already satisfied: rustworkx>=0.12.0 in /Users/rraymondhp/Downloads/NewMBP/pythonvenv/lib/python3.11/site-packages (from qiskit-terra>=0.24.0->qiskit-ibm-runtime) (0.12.1)\n",
      "Requirement already satisfied: ply>=3.10 in /Users/rraymondhp/Downloads/NewMBP/pythonvenv/lib/python3.11/site-packages (from qiskit-terra>=0.24.0->qiskit-ibm-runtime) (3.11)\n",
      "Requirement already satisfied: psutil>=5 in /Users/rraymondhp/Downloads/NewMBP/pythonvenv/lib/python3.11/site-packages (from qiskit-terra>=0.24.0->qiskit-ibm-runtime) (5.9.5)\n",
      "Requirement already satisfied: scipy>=1.5 in /Users/rraymondhp/Downloads/NewMBP/pythonvenv/lib/python3.11/site-packages (from qiskit-terra>=0.24.0->qiskit-ibm-runtime) (1.10.1)\n",
      "Requirement already satisfied: sympy>=1.3 in /Users/rraymondhp/Downloads/NewMBP/pythonvenv/lib/python3.11/site-packages (from qiskit-terra>=0.24.0->qiskit-ibm-runtime) (1.12)\n",
      "Requirement already satisfied: dill>=0.3 in /Users/rraymondhp/Downloads/NewMBP/pythonvenv/lib/python3.11/site-packages (from qiskit-terra>=0.24.0->qiskit-ibm-runtime) (0.3.6)\n",
      "Requirement already satisfied: stevedore>=3.0.0 in /Users/rraymondhp/Downloads/NewMBP/pythonvenv/lib/python3.11/site-packages (from qiskit-terra>=0.24.0->qiskit-ibm-runtime) (5.1.0)\n",
      "Requirement already satisfied: symengine<0.10,>=0.9 in /Users/rraymondhp/Downloads/NewMBP/pythonvenv/lib/python3.11/site-packages (from qiskit-terra>=0.24.0->qiskit-ibm-runtime) (0.9.2)\n",
      "Requirement already satisfied: charset-normalizer<4,>=2 in /Users/rraymondhp/Downloads/NewMBP/pythonvenv/lib/python3.11/site-packages (from requests>=2.19->qiskit-ibm-runtime) (3.1.0)\n",
      "Requirement already satisfied: idna<4,>=2.5 in /Users/rraymondhp/Downloads/NewMBP/pythonvenv/lib/python3.11/site-packages (from requests>=2.19->qiskit-ibm-runtime) (3.4)\n",
      "Requirement already satisfied: certifi>=2017.4.17 in /Users/rraymondhp/Downloads/NewMBP/pythonvenv/lib/python3.11/site-packages (from requests>=2.19->qiskit-ibm-runtime) (2023.5.7)\n",
      "Requirement already satisfied: ntlm-auth>=1.0.2 in /Users/rraymondhp/Downloads/NewMBP/pythonvenv/lib/python3.11/site-packages (from requests-ntlm>=1.1.0->qiskit-ibm-runtime) (1.5.0)\n",
      "Requirement already satisfied: cryptography>=1.3 in /Users/rraymondhp/Downloads/NewMBP/pythonvenv/lib/python3.11/site-packages (from requests-ntlm>=1.1.0->qiskit-ibm-runtime) (40.0.2)\n",
      "Requirement already satisfied: cffi>=1.12 in /Users/rraymondhp/Downloads/NewMBP/pythonvenv/lib/python3.11/site-packages (from cryptography>=1.3->requests-ntlm>=1.1.0->qiskit-ibm-runtime) (1.15.1)\n",
      "Requirement already satisfied: PyJWT<3.0.0,>=2.4.0 in /Users/rraymondhp/Downloads/NewMBP/pythonvenv/lib/python3.11/site-packages (from ibm-cloud-sdk-core<4.0.0,>=3.16.5->ibm-platform-services>=0.22.6->qiskit-ibm-runtime) (2.7.0)\n",
      "Requirement already satisfied: pbr!=2.1.0,>=2.0.0 in /Users/rraymondhp/Downloads/NewMBP/pythonvenv/lib/python3.11/site-packages (from stevedore>=3.0.0->qiskit-terra>=0.24.0->qiskit-ibm-runtime) (5.11.1)\n",
      "Requirement already satisfied: mpmath>=0.19 in /Users/rraymondhp/Downloads/NewMBP/pythonvenv/lib/python3.11/site-packages (from sympy>=1.3->qiskit-terra>=0.24.0->qiskit-ibm-runtime) (1.3.0)\n",
      "Requirement already satisfied: pycparser in /Users/rraymondhp/Downloads/NewMBP/pythonvenv/lib/python3.11/site-packages (from cffi>=1.12->cryptography>=1.3->requests-ntlm>=1.1.0->qiskit-ibm-runtime) (2.21)\n"
     ]
    }
   ],
   "source": [
    "!pip install -U qiskit-ibm-runtime"
   ]
  },
  {
   "cell_type": "code",
   "execution_count": 3,
   "id": "7da259cf",
   "metadata": {},
   "outputs": [
    {
     "name": "stdout",
     "output_type": "stream",
     "text": [
      "Requirement already satisfied: qiskit-ibm-provider in /Users/rraymondhp/Downloads/NewMBP/pythonvenv/lib/python3.11/site-packages (0.6.0)\n",
      "Requirement already satisfied: qiskit-terra>=0.24.0 in /Users/rraymondhp/Downloads/NewMBP/pythonvenv/lib/python3.11/site-packages (from qiskit-ibm-provider) (0.24.0)\n",
      "Requirement already satisfied: requests>=2.19 in /Users/rraymondhp/Downloads/NewMBP/pythonvenv/lib/python3.11/site-packages (from qiskit-ibm-provider) (2.30.0)\n",
      "Requirement already satisfied: requests-ntlm>=1.1.0 in /Users/rraymondhp/Downloads/NewMBP/pythonvenv/lib/python3.11/site-packages (from qiskit-ibm-provider) (1.1.0)\n",
      "Requirement already satisfied: numpy>=1.13 in /Users/rraymondhp/Downloads/NewMBP/pythonvenv/lib/python3.11/site-packages (from qiskit-ibm-provider) (1.23.5)\n",
      "Requirement already satisfied: urllib3>=1.21.1 in /Users/rraymondhp/Downloads/NewMBP/pythonvenv/lib/python3.11/site-packages (from qiskit-ibm-provider) (1.26.15)\n",
      "Requirement already satisfied: python-dateutil>=2.8.0 in /Users/rraymondhp/Downloads/NewMBP/pythonvenv/lib/python3.11/site-packages (from qiskit-ibm-provider) (2.8.2)\n",
      "Requirement already satisfied: websocket-client>=1.5.1 in /Users/rraymondhp/Downloads/NewMBP/pythonvenv/lib/python3.11/site-packages (from qiskit-ibm-provider) (1.5.1)\n",
      "Requirement already satisfied: websockets>=10.0 in /Users/rraymondhp/Downloads/NewMBP/pythonvenv/lib/python3.11/site-packages (from qiskit-ibm-provider) (11.0.3)\n",
      "Requirement already satisfied: typing-extensions>=4.3 in /Users/rraymondhp/Downloads/NewMBP/pythonvenv/lib/python3.11/site-packages (from qiskit-ibm-provider) (4.5.0)\n",
      "Requirement already satisfied: six>=1.5 in /Users/rraymondhp/Downloads/NewMBP/pythonvenv/lib/python3.11/site-packages (from python-dateutil>=2.8.0->qiskit-ibm-provider) (1.16.0)\n",
      "Requirement already satisfied: rustworkx>=0.12.0 in /Users/rraymondhp/Downloads/NewMBP/pythonvenv/lib/python3.11/site-packages (from qiskit-terra>=0.24.0->qiskit-ibm-provider) (0.12.1)\n",
      "Requirement already satisfied: ply>=3.10 in /Users/rraymondhp/Downloads/NewMBP/pythonvenv/lib/python3.11/site-packages (from qiskit-terra>=0.24.0->qiskit-ibm-provider) (3.11)\n",
      "Requirement already satisfied: psutil>=5 in /Users/rraymondhp/Downloads/NewMBP/pythonvenv/lib/python3.11/site-packages (from qiskit-terra>=0.24.0->qiskit-ibm-provider) (5.9.5)\n",
      "Requirement already satisfied: scipy>=1.5 in /Users/rraymondhp/Downloads/NewMBP/pythonvenv/lib/python3.11/site-packages (from qiskit-terra>=0.24.0->qiskit-ibm-provider) (1.10.1)\n",
      "Requirement already satisfied: sympy>=1.3 in /Users/rraymondhp/Downloads/NewMBP/pythonvenv/lib/python3.11/site-packages (from qiskit-terra>=0.24.0->qiskit-ibm-provider) (1.12)\n",
      "Requirement already satisfied: dill>=0.3 in /Users/rraymondhp/Downloads/NewMBP/pythonvenv/lib/python3.11/site-packages (from qiskit-terra>=0.24.0->qiskit-ibm-provider) (0.3.6)\n",
      "Requirement already satisfied: stevedore>=3.0.0 in /Users/rraymondhp/Downloads/NewMBP/pythonvenv/lib/python3.11/site-packages (from qiskit-terra>=0.24.0->qiskit-ibm-provider) (5.1.0)\n",
      "Requirement already satisfied: symengine<0.10,>=0.9 in /Users/rraymondhp/Downloads/NewMBP/pythonvenv/lib/python3.11/site-packages (from qiskit-terra>=0.24.0->qiskit-ibm-provider) (0.9.2)\n",
      "Requirement already satisfied: charset-normalizer<4,>=2 in /Users/rraymondhp/Downloads/NewMBP/pythonvenv/lib/python3.11/site-packages (from requests>=2.19->qiskit-ibm-provider) (3.1.0)\n",
      "Requirement already satisfied: idna<4,>=2.5 in /Users/rraymondhp/Downloads/NewMBP/pythonvenv/lib/python3.11/site-packages (from requests>=2.19->qiskit-ibm-provider) (3.4)\n",
      "Requirement already satisfied: certifi>=2017.4.17 in /Users/rraymondhp/Downloads/NewMBP/pythonvenv/lib/python3.11/site-packages (from requests>=2.19->qiskit-ibm-provider) (2023.5.7)\n",
      "Requirement already satisfied: ntlm-auth>=1.0.2 in /Users/rraymondhp/Downloads/NewMBP/pythonvenv/lib/python3.11/site-packages (from requests-ntlm>=1.1.0->qiskit-ibm-provider) (1.5.0)\n",
      "Requirement already satisfied: cryptography>=1.3 in /Users/rraymondhp/Downloads/NewMBP/pythonvenv/lib/python3.11/site-packages (from requests-ntlm>=1.1.0->qiskit-ibm-provider) (40.0.2)\n",
      "Requirement already satisfied: cffi>=1.12 in /Users/rraymondhp/Downloads/NewMBP/pythonvenv/lib/python3.11/site-packages (from cryptography>=1.3->requests-ntlm>=1.1.0->qiskit-ibm-provider) (1.15.1)\n",
      "Requirement already satisfied: pbr!=2.1.0,>=2.0.0 in /Users/rraymondhp/Downloads/NewMBP/pythonvenv/lib/python3.11/site-packages (from stevedore>=3.0.0->qiskit-terra>=0.24.0->qiskit-ibm-provider) (5.11.1)\n",
      "Requirement already satisfied: mpmath>=0.19 in /Users/rraymondhp/Downloads/NewMBP/pythonvenv/lib/python3.11/site-packages (from sympy>=1.3->qiskit-terra>=0.24.0->qiskit-ibm-provider) (1.3.0)\n",
      "Requirement already satisfied: pycparser in /Users/rraymondhp/Downloads/NewMBP/pythonvenv/lib/python3.11/site-packages (from cffi>=1.12->cryptography>=1.3->requests-ntlm>=1.1.0->qiskit-ibm-provider) (2.21)\n"
     ]
    }
   ],
   "source": [
    "!pip install -U qiskit-ibm-provider"
   ]
  },
  {
   "cell_type": "code",
   "execution_count": 4,
   "id": "b949fc85",
   "metadata": {},
   "outputs": [
    {
     "name": "stdout",
     "output_type": "stream",
     "text": [
      "Requirement already satisfied: scikit-learn in /Users/rraymondhp/Downloads/NewMBP/pythonvenv/lib/python3.11/site-packages (1.2.2)\n",
      "Requirement already satisfied: numpy>=1.17.3 in /Users/rraymondhp/Downloads/NewMBP/pythonvenv/lib/python3.11/site-packages (from scikit-learn) (1.23.5)\n",
      "Requirement already satisfied: scipy>=1.3.2 in /Users/rraymondhp/Downloads/NewMBP/pythonvenv/lib/python3.11/site-packages (from scikit-learn) (1.10.1)\n",
      "Requirement already satisfied: joblib>=1.1.1 in /Users/rraymondhp/Downloads/NewMBP/pythonvenv/lib/python3.11/site-packages (from scikit-learn) (1.2.0)\n",
      "Requirement already satisfied: threadpoolctl>=2.0.0 in /Users/rraymondhp/Downloads/NewMBP/pythonvenv/lib/python3.11/site-packages (from scikit-learn) (3.1.0)\n"
     ]
    }
   ],
   "source": [
    "!pip install scikit-learn"
   ]
  },
  {
   "cell_type": "code",
   "execution_count": 5,
   "id": "9be270ba-b0a2-406a-9ed6-9834041eb80c",
   "metadata": {},
   "outputs": [],
   "source": [
    "import sys\n",
    "sys.path.append('/Users/rraymondhp/Downloads/NewMBP/202305KoyasuFraxis')\n",
    "import os\n",
    "from training_molecules import parallel_train\n",
    "import time\n",
    "import numpy as np"
   ]
  },
  {
   "cell_type": "code",
   "execution_count": 6,
   "id": "a7f3baf2-85ff-456f-b630-48d760e91ea2",
   "metadata": {},
   "outputs": [],
   "source": [
    "from qiskit_ibm_runtime import QiskitRuntimeService\n",
    "\n",
    "# Save your credentials on disk.\n",
    "#QiskitRuntimeService.save_account(channel='ibm_quantum', token=\"24dd9c19c7cd0fdd2d43d0067893c68c0b5071603ce40c22b3c0c8c04af923f0d276472ad3ffd19e3478c84902f574d79d358c0ae698d79abf876053709b1eb8\")\n",
    "\n",
    "service = QiskitRuntimeService(\n",
    "    channel='ibm_quantum',\n",
    "    instance='ibm-q-utokyo/internal/hirashi-jst',\n",
    ")\n",
    "\n",
    "#service = QiskitRuntimeService(\n",
    "#    channel='ibm_quantum',\n",
    "#    instance='ibm-q-utokyo/internal/cs-slecture8',\n",
    "#)"
   ]
  },
  {
   "cell_type": "code",
   "execution_count": 7,
   "id": "f0260f61-ad66-4395-8db7-99204235c6cd",
   "metadata": {},
   "outputs": [],
   "source": [
    "Q = 2 #number of qubits\n",
    "L = 2 #number of fraxis layer\n",
    "W = 100#number of quantum node\n",
    "N = 100 #number of training data size\n",
    "M = 3600 #number of testing data size\n",
    "U = 2  #number of update\n",
    "atomNo = 45\n",
    "#backend = service.backend('ibm_kawasaki')\n",
    "#backend = service.backend('simulator_mps')\n",
    "backend = service.backend('ibm_seattle')\n",
    "params = np.zeros((L, Q, 3))+np.array([0., 0., 1.])"
   ]
  },
  {
   "cell_type": "code",
   "execution_count": 8,
   "id": "6b4c4556-4e12-489f-80f3-a347e53b1cc4",
   "metadata": {
    "scrolled": true
   },
   "outputs": [
    {
     "name": "stdout",
     "output_type": "stream",
     "text": [
      "Start loading data\n",
      "AFTER ARRAYING\n",
      "(100, 25) (3600, 25) (3600,) (100,)\n",
      "End loading data\n",
      "B4 TRANSPILE\n",
      "AF TRANSPILE\n",
      "B4 TRANSPILE\n",
      "AF TRANSPILE\n"
     ]
    },
    {
     "ename": "KeyboardInterrupt",
     "evalue": "",
     "output_type": "error",
     "traceback": [
      "\u001b[0;31m---------------------------------------------------------------------------\u001b[0m",
      "\u001b[0;31mKeyboardInterrupt\u001b[0m                         Traceback (most recent call last)",
      "Cell \u001b[0;32mIn[8], line 3\u001b[0m\n\u001b[1;32m      1\u001b[0m \u001b[38;5;28;01mif\u001b[39;00m \u001b[38;5;18m__name__\u001b[39m \u001b[38;5;241m==\u001b[39m \u001b[38;5;124m'\u001b[39m\u001b[38;5;124m__main__\u001b[39m\u001b[38;5;124m'\u001b[39m:\n\u001b[1;32m      2\u001b[0m     st \u001b[38;5;241m=\u001b[39m time\u001b[38;5;241m.\u001b[39mtime()\n\u001b[0;32m----> 3\u001b[0m     \u001b[43mparallel_train\u001b[49m\u001b[43m(\u001b[49m\u001b[43mQ\u001b[49m\u001b[43m,\u001b[49m\u001b[43m \u001b[49m\u001b[43mL\u001b[49m\u001b[43m,\u001b[49m\u001b[43m \u001b[49m\u001b[43mW\u001b[49m\u001b[43m,\u001b[49m\u001b[43m \u001b[49m\u001b[43mN\u001b[49m\u001b[43m,\u001b[49m\u001b[43m \u001b[49m\u001b[43mM\u001b[49m\u001b[43m,\u001b[49m\u001b[43m \u001b[49m\u001b[43mU\u001b[49m\u001b[43m,\u001b[49m\u001b[43m \u001b[49m\u001b[43mservice\u001b[49m\u001b[43m,\u001b[49m\u001b[43m \u001b[49m\u001b[43mbackend\u001b[49m\u001b[43m,\u001b[49m\u001b[43m \u001b[49m\u001b[43mparams\u001b[49m\u001b[43m,\u001b[49m\u001b[43m \u001b[49m\u001b[43misScaled\u001b[49m\u001b[38;5;241;43m=\u001b[39;49m\u001b[38;5;28;43;01mFalse\u001b[39;49;00m\u001b[43m,\u001b[49m\u001b[43m \u001b[49m\u001b[43matomNo\u001b[49m\u001b[38;5;241;43m=\u001b[39;49m\u001b[43matomNo\u001b[49m\u001b[43m)\u001b[49m        \n\u001b[1;32m      4\u001b[0m     \u001b[38;5;28mprint\u001b[39m(\u001b[38;5;124m'\u001b[39m\u001b[38;5;124mImplementation time : \u001b[39m\u001b[38;5;124m'\u001b[39m, time\u001b[38;5;241m.\u001b[39mtime()\u001b[38;5;241m-\u001b[39mst)\n",
      "File \u001b[0;32m~/Downloads/NewMBP/202305KoyasuFraxis/training_molecules.py:95\u001b[0m, in \u001b[0;36mparallel_train\u001b[0;34m(n_qubits, layer_size, world_size, num_train, num_test, update_iter, service, backend, params, isScaled, atomNo)\u001b[0m\n\u001b[1;32m     93\u001b[0m \u001b[38;5;28;01mif\u001b[39;00m i \u001b[38;5;241m==\u001b[39m update_iter \u001b[38;5;241m-\u001b[39m \u001b[38;5;241m1\u001b[39m:\n\u001b[1;32m     94\u001b[0m     isEval \u001b[38;5;241m=\u001b[39m \u001b[38;5;28;01mTrue\u001b[39;00m\n\u001b[0;32m---> 95\u001b[0m \u001b[43mmodel\u001b[49m\u001b[38;5;241;43m.\u001b[39;49m\u001b[43mfit_and_eval\u001b[49m\u001b[43m(\u001b[49m\u001b[43mtrain_feat\u001b[49m\u001b[43m,\u001b[49m\u001b[43mtrain_label\u001b[49m\u001b[43m,\u001b[49m\u001b[43mtest_feat\u001b[49m\u001b[43m,\u001b[49m\u001b[43mtest_label\u001b[49m\u001b[43m,\u001b[49m\u001b[43m \u001b[49m\u001b[43misEval\u001b[49m\u001b[38;5;241;43m=\u001b[39;49m\u001b[43misEval\u001b[49m\u001b[43m)\u001b[49m\n\u001b[1;32m     96\u001b[0m \u001b[38;5;28mprint\u001b[39m(time\u001b[38;5;241m.\u001b[39mtime()\u001b[38;5;241m-\u001b[39mst)\n\u001b[1;32m     97\u001b[0m \u001b[38;5;28mprint\u001b[39m(\u001b[38;5;124m'\u001b[39m\u001b[38;5;124m_______________NEW________________\u001b[39m\u001b[38;5;124m'\u001b[39m,i)\n",
      "File \u001b[0;32m~/Downloads/NewMBP/202305KoyasuFraxis/model.py:87\u001b[0m, in \u001b[0;36mFraxClassify.fit_and_eval\u001b[0;34m(self, X, y, X2, y2, isEval)\u001b[0m\n\u001b[1;32m     79\u001b[0m \u001b[38;5;28mprint\u001b[39m(\u001b[38;5;124m\"\u001b[39m\u001b[38;5;124mAF TRANSPILE\u001b[39m\u001b[38;5;124m\"\u001b[39m)\n\u001b[1;32m     80\u001b[0m \u001b[38;5;66;03m#for idx, _c in enumerate(transpiled_circuits):\u001b[39;00m\n\u001b[1;32m     81\u001b[0m     \u001b[38;5;66;03m#_c.draw(filename=\"circuit_\"+str(idx)+\".png\", output=\"mpl\")\u001b[39;00m\n\u001b[1;32m     82\u001b[0m \u001b[38;5;66;03m#    _c.draw(filename=\"circuit_\"+str(idx)+\".tex\", output=\"latex_source\")\u001b[39;00m\n\u001b[1;32m     83\u001b[0m \u001b[38;5;66;03m#sys.exit(0)\u001b[39;00m\n\u001b[1;32m     85\u001b[0m result \u001b[38;5;241m=\u001b[39m \u001b[43msampler\u001b[49m\u001b[38;5;241;43m.\u001b[39;49m\u001b[43mrun\u001b[49m\u001b[43m(\u001b[49m\n\u001b[1;32m     86\u001b[0m \u001b[43m    \u001b[49m\u001b[43mcircuits\u001b[49m\u001b[38;5;241;43m=\u001b[39;49m\u001b[43mtranspiled_circuits\u001b[49m\n\u001b[0;32m---> 87\u001b[0m \u001b[43m\u001b[49m\u001b[43m)\u001b[49m\u001b[38;5;241;43m.\u001b[39;49m\u001b[43mresult\u001b[49m\u001b[43m(\u001b[49m\u001b[43m)\u001b[49m\u001b[38;5;241m.\u001b[39mquasi_dists\n\u001b[1;32m     89\u001b[0m r6s \u001b[38;5;241m=\u001b[39m np\u001b[38;5;241m.\u001b[39mzeros((\u001b[38;5;241m6\u001b[39m, \u001b[38;5;28mself\u001b[39m\u001b[38;5;241m.\u001b[39mworld_size))\n\u001b[1;32m     90\u001b[0m \u001b[38;5;28;01mfor\u001b[39;00m d \u001b[38;5;129;01min\u001b[39;00m \u001b[38;5;28mrange\u001b[39m(\u001b[38;5;241m6\u001b[39m):\n",
      "File \u001b[0;32m~/Downloads/NewMBP/pythonvenv/lib/python3.11/site-packages/qiskit_ibm_runtime/runtime_job.py:222\u001b[0m, in \u001b[0;36mRuntimeJob.result\u001b[0;34m(self, timeout, decoder)\u001b[0m\n\u001b[1;32m    220\u001b[0m _decoder \u001b[38;5;241m=\u001b[39m decoder \u001b[38;5;129;01mor\u001b[39;00m \u001b[38;5;28mself\u001b[39m\u001b[38;5;241m.\u001b[39m_final_result_decoder\n\u001b[1;32m    221\u001b[0m \u001b[38;5;28;01mif\u001b[39;00m \u001b[38;5;28mself\u001b[39m\u001b[38;5;241m.\u001b[39m_results \u001b[38;5;129;01mis\u001b[39;00m \u001b[38;5;28;01mNone\u001b[39;00m \u001b[38;5;129;01mor\u001b[39;00m (_decoder \u001b[38;5;241m!=\u001b[39m \u001b[38;5;28mself\u001b[39m\u001b[38;5;241m.\u001b[39m_final_result_decoder):\n\u001b[0;32m--> 222\u001b[0m     \u001b[38;5;28;43mself\u001b[39;49m\u001b[38;5;241;43m.\u001b[39;49m\u001b[43mwait_for_final_state\u001b[49m\u001b[43m(\u001b[49m\u001b[43mtimeout\u001b[49m\u001b[38;5;241;43m=\u001b[39;49m\u001b[43mtimeout\u001b[49m\u001b[43m)\u001b[49m\n\u001b[1;32m    223\u001b[0m     \u001b[38;5;28;01mif\u001b[39;00m \u001b[38;5;28mself\u001b[39m\u001b[38;5;241m.\u001b[39m_status \u001b[38;5;241m==\u001b[39m JobStatus\u001b[38;5;241m.\u001b[39mERROR:\n\u001b[1;32m    224\u001b[0m         error_message \u001b[38;5;241m=\u001b[39m \u001b[38;5;28mself\u001b[39m\u001b[38;5;241m.\u001b[39m_reason \u001b[38;5;28;01mif\u001b[39;00m \u001b[38;5;28mself\u001b[39m\u001b[38;5;241m.\u001b[39m_reason \u001b[38;5;28;01melse\u001b[39;00m \u001b[38;5;28mself\u001b[39m\u001b[38;5;241m.\u001b[39m_error_message\n",
      "File \u001b[0;32m~/Downloads/NewMBP/pythonvenv/lib/python3.11/site-packages/qiskit_ibm_runtime/runtime_job.py:311\u001b[0m, in \u001b[0;36mRuntimeJob.wait_for_final_state\u001b[0;34m(self, timeout)\u001b[0m\n\u001b[1;32m    307\u001b[0m     \u001b[38;5;28mself\u001b[39m\u001b[38;5;241m.\u001b[39m_ws_client_future \u001b[38;5;241m=\u001b[39m \u001b[38;5;28mself\u001b[39m\u001b[38;5;241m.\u001b[39m_executor\u001b[38;5;241m.\u001b[39msubmit(\n\u001b[1;32m    308\u001b[0m         \u001b[38;5;28mself\u001b[39m\u001b[38;5;241m.\u001b[39m_start_websocket_client\n\u001b[1;32m    309\u001b[0m     )\n\u001b[1;32m    310\u001b[0m \u001b[38;5;28;01mif\u001b[39;00m \u001b[38;5;28mself\u001b[39m\u001b[38;5;241m.\u001b[39m_is_streaming():\n\u001b[0;32m--> 311\u001b[0m     \u001b[38;5;28;43mself\u001b[39;49m\u001b[38;5;241;43m.\u001b[39;49m\u001b[43m_ws_client_future\u001b[49m\u001b[38;5;241;43m.\u001b[39;49m\u001b[43mresult\u001b[49m\u001b[43m(\u001b[49m\u001b[43mtimeout\u001b[49m\u001b[43m)\u001b[49m\n\u001b[1;32m    312\u001b[0m \u001b[38;5;66;03m# poll for status after stream has closed until status is final\u001b[39;00m\n\u001b[1;32m    313\u001b[0m \u001b[38;5;66;03m# because status doesn't become final as soon as stream closes\u001b[39;00m\n\u001b[1;32m    314\u001b[0m status \u001b[38;5;241m=\u001b[39m \u001b[38;5;28mself\u001b[39m\u001b[38;5;241m.\u001b[39mstatus()\n",
      "File \u001b[0;32m/usr/local/Cellar/python@3.11/3.11.2_1/Frameworks/Python.framework/Versions/3.11/lib/python3.11/concurrent/futures/_base.py:451\u001b[0m, in \u001b[0;36mFuture.result\u001b[0;34m(self, timeout)\u001b[0m\n\u001b[1;32m    448\u001b[0m \u001b[38;5;28;01melif\u001b[39;00m \u001b[38;5;28mself\u001b[39m\u001b[38;5;241m.\u001b[39m_state \u001b[38;5;241m==\u001b[39m FINISHED:\n\u001b[1;32m    449\u001b[0m     \u001b[38;5;28;01mreturn\u001b[39;00m \u001b[38;5;28mself\u001b[39m\u001b[38;5;241m.\u001b[39m__get_result()\n\u001b[0;32m--> 451\u001b[0m \u001b[38;5;28;43mself\u001b[39;49m\u001b[38;5;241;43m.\u001b[39;49m\u001b[43m_condition\u001b[49m\u001b[38;5;241;43m.\u001b[39;49m\u001b[43mwait\u001b[49m\u001b[43m(\u001b[49m\u001b[43mtimeout\u001b[49m\u001b[43m)\u001b[49m\n\u001b[1;32m    453\u001b[0m \u001b[38;5;28;01mif\u001b[39;00m \u001b[38;5;28mself\u001b[39m\u001b[38;5;241m.\u001b[39m_state \u001b[38;5;129;01min\u001b[39;00m [CANCELLED, CANCELLED_AND_NOTIFIED]:\n\u001b[1;32m    454\u001b[0m     \u001b[38;5;28;01mraise\u001b[39;00m CancelledError()\n",
      "File \u001b[0;32m/usr/local/Cellar/python@3.11/3.11.2_1/Frameworks/Python.framework/Versions/3.11/lib/python3.11/threading.py:320\u001b[0m, in \u001b[0;36mCondition.wait\u001b[0;34m(self, timeout)\u001b[0m\n\u001b[1;32m    318\u001b[0m \u001b[38;5;28;01mtry\u001b[39;00m:    \u001b[38;5;66;03m# restore state no matter what (e.g., KeyboardInterrupt)\u001b[39;00m\n\u001b[1;32m    319\u001b[0m     \u001b[38;5;28;01mif\u001b[39;00m timeout \u001b[38;5;129;01mis\u001b[39;00m \u001b[38;5;28;01mNone\u001b[39;00m:\n\u001b[0;32m--> 320\u001b[0m         \u001b[43mwaiter\u001b[49m\u001b[38;5;241;43m.\u001b[39;49m\u001b[43macquire\u001b[49m\u001b[43m(\u001b[49m\u001b[43m)\u001b[49m\n\u001b[1;32m    321\u001b[0m         gotit \u001b[38;5;241m=\u001b[39m \u001b[38;5;28;01mTrue\u001b[39;00m\n\u001b[1;32m    322\u001b[0m     \u001b[38;5;28;01melse\u001b[39;00m:\n",
      "\u001b[0;31mKeyboardInterrupt\u001b[0m: "
     ]
    }
   ],
   "source": [
    "if __name__ == '__main__':\n",
    "    st = time.time()\n",
    "    parallel_train(Q, L, W, N, M, U, service, backend, params, isScaled=False, atomNo=atomNo)        \n",
    "    print('Implementation time : ', time.time()-st)"
   ]
  },
  {
   "cell_type": "code",
   "execution_count": null,
   "id": "039acf71-83a6-404d-9c95-022854ba035b",
   "metadata": {},
   "outputs": [],
   "source": [
    "%tb"
   ]
  },
  {
   "cell_type": "code",
   "execution_count": null,
   "id": "86d6c4f4-6b97-4624-9e19-f8a3464efb00",
   "metadata": {},
   "outputs": [],
   "source": []
  }
 ],
 "metadata": {
  "kernelspec": {
   "display_name": "Python 3 (ipykernel)",
   "language": "python",
   "name": "python3"
  },
  "language_info": {
   "codemirror_mode": {
    "name": "ipython",
    "version": 3
   },
   "file_extension": ".py",
   "mimetype": "text/x-python",
   "name": "python",
   "nbconvert_exporter": "python",
   "pygments_lexer": "ipython3",
   "version": "3.11.2"
  },
  "widgets": {
   "application/vnd.jupyter.widget-state+json": {
    "state": {},
    "version_major": 2,
    "version_minor": 0
   }
  }
 },
 "nbformat": 4,
 "nbformat_minor": 5
}
