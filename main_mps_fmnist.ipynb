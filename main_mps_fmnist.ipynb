{
 "cells": [
  {
   "cell_type": "code",
   "execution_count": 1,
   "id": "5cbdcbcc-f88a-4348-9ce6-80eb38bc273b",
   "metadata": {},
   "outputs": [
    {
     "data": {
      "text/plain": [
       "'/home/jovyan/koyasu_fraxis'"
      ]
     },
     "execution_count": 1,
     "metadata": {},
     "output_type": "execute_result"
    }
   ],
   "source": [
    "import sys\n",
    "import os\n",
    "os.getcwd()"
   ]
  },
  {
   "cell_type": "code",
   "execution_count": 2,
   "id": "9be270ba-b0a2-406a-9ed6-9834041eb80c",
   "metadata": {},
   "outputs": [],
   "source": [
    "import sys\n",
    "sys.path.append('/home/jovyan/koyasu_fraxis')\n",
    "import os\n",
    "from training import parallel_train\n",
    "import time\n",
    "import numpy as np"
   ]
  },
  {
   "cell_type": "code",
   "execution_count": 3,
   "id": "a7f3baf2-85ff-456f-b630-48d760e91ea2",
   "metadata": {},
   "outputs": [],
   "source": [
    "from qiskit_ibm_runtime import QiskitRuntimeService\n",
    "\n",
    "# Save your credentials on disk.\n",
    "# QiskitRuntimeService.save_account(channel='ibm_quantum', token=<IBM Quantum API key>)\n",
    "\n",
    "service = QiskitRuntimeService(\n",
    "    channel='ibm_quantum',\n",
    "    instance='ibm-q-utokyo/internal/hirashi-jst',\n",
    ")\n",
    "\n",
    "#service = QiskitRuntimeService(\n",
    "#    channel='ibm_quantum',\n",
    "#    instance='ibm-q-utokyo/internal/cs-slecture8',\n",
    "#)"
   ]
  },
  {
   "cell_type": "code",
   "execution_count": 4,
   "id": "f0260f61-ad66-4395-8db7-99204235c6cd",
   "metadata": {},
   "outputs": [],
   "source": [
    "Q = 3 #number of qubits\n",
    "L = 2 #number of fraxis layer\n",
    "W = 9 #number of quantum node\n",
    "N = 100 #number of training data size\n",
    "M = 100 #number of testing data size\n",
    "U = 1  #number of update\n",
    "#backend = service.backend('ibm_kawasaki')\n",
    "backend = service.backend('simulator_mps')\n",
    "params = np.zeros((L, Q, 3))+np.array([0, 0, 1])"
   ]
  },
  {
   "cell_type": "code",
   "execution_count": 5,
   "id": "6b4c4556-4e12-489f-80f3-a347e53b1cc4",
   "metadata": {},
   "outputs": [
    {
     "name": "stdout",
     "output_type": "stream",
     "text": [
      "Using Fashion MNIST\n",
      "Traceback \u001b[1;36m(most recent call last)\u001b[0m:\n",
      "\u001b[0m  Cell \u001b[0;32mIn[5], line 3\u001b[0m\n",
      "    parallel_train(Q, L, W, N, M, U, service, backend, params, isFashion=True)\u001b[0m\n",
      "\u001b[0m  File \u001b[0;32m~/koyasu_fraxis/training.py:52\u001b[0m in \u001b[0;35mparallel_train\u001b[0m\n",
      "    model.fit_and_eval(train_feat,train_label,test_feat,test_label)\u001b[0m\n",
      "\u001b[0m  File \u001b[0;32m~/koyasu_fraxis/model.py:21\u001b[0m in \u001b[0;35mfit_and_eval\u001b[0m\n",
      "    sampler = Sampler()\u001b[0m\n",
      "\u001b[1;36m  File \u001b[1;32m/opt/conda/lib/python3.10/site-packages/qiskit_ibm_runtime/sampler.py:123\u001b[1;36m in \u001b[1;35m__init__\u001b[1;36m\n",
      "\u001b[1;33m    super().__init__(\u001b[1;36m\n",
      "\u001b[1;31mTypeError\u001b[0m\u001b[1;31m:\u001b[0m BaseSampler.__init__() got an unexpected keyword argument 'circuits'\n",
      "\n",
      "Use %tb to get the full traceback.\n"
     ]
    },
    {
     "data": {
      "text/html": [
       "\n",
       "<style>\n",
       ".button {\n",
       "  border: none;\n",
       "  color: white;\n",
       "  padding: 4px 8px;\n",
       "  text-align: center;\n",
       "  text-decoration: none;\n",
       "  display: inline-block;\n",
       "  font-size: 12px;\n",
       "  margin: 4px 2px;\n",
       "  transition-duration: 0.2s;\n",
       "  cursor: pointer;\n",
       "}\n",
       ".iqx-button {\n",
       "  background-color: #0f62fe; \n",
       "  color: white; \n",
       "}\n",
       ".iqx-button:hover {\n",
       "  background-color: #0043ce;\n",
       "  color: white;\n",
       "}\n",
       "</style>\n",
       "<a href=\"https://stackoverflow.com/search?q=TypeError: BaseSampler.__init__() got an unexpected keyword argument 'circuits'\" target='_blank'><button class='button iqx-button'>Search for solution online</button></a>\n"
      ],
      "text/plain": [
       "<IPython.core.display.HTML object>"
      ]
     },
     "metadata": {},
     "output_type": "display_data"
    }
   ],
   "source": [
    "if __name__ == '__main__':\n",
    "    st = time.time()\n",
    "    parallel_train(Q, L, W, N, M, U, service, backend, params, isFashion=True)        \n",
    "    print('Implementation time : ', time.time()-st)"
   ]
  },
  {
   "cell_type": "code",
   "execution_count": 6,
   "id": "039acf71-83a6-404d-9c95-022854ba035b",
   "metadata": {},
   "outputs": [
    {
     "ename": "RuntimeJobFailureError",
     "evalue": "'Unable to retrieve job result. Job cgf580ni6pt7tfrpdp6g has failed:\\n2023-03-25T01:52:48.563992650Z Setting up watches.\\n2023-03-25T01:52:48.564055999Z Watches established.\\n2023-03-25T01:52:50.111555039Z INFO:     Started server process [8]\\n2023-03-25T01:52:50.111773154Z INFO:     Waiting for application startup.\\n2023-03-25T01:52:50.112202933Z INFO:     Application startup complete.\\n2023-03-25T01:52:50.114310148Z INFO:     Uvicorn running on http://127.0.0.1:8081 (Press CTRL+C to quit)\\n2023-03-25T01:53:07.053540287Z INFO:     127.0.0.1:50050 - \"POST /run HTTP/1.1\" 202 Accepted\\n2023-03-25T01:53:07.149784301Z program - WARNING Backend (aer_simulator_matrix_product_state) does not support dynamical decoupling.\\n2023-03-25T01:53:09.591911314Z /pod-data/ CLOSE_WRITE,CLOSE terminated\\n2023-03-25T01:53:09.591944041Z Termination marker file found. Kill process (8).\\n2023-03-25T01:53:09.606985302Z /bin/bash: line 3:     8 Killed                  python -m uvicorn server.main:app --port 8081\\n2023-03-25T01:53:09.608580693Z Termination signal received, exited.\\n'",
     "output_type": "error",
     "traceback": [
      "\u001b[0;31m---------------------------------------------------------------------------\u001b[0m",
      "\u001b[0;31mRuntimeJobFailureError\u001b[0m                    Traceback (most recent call last)",
      "Cell \u001b[0;32mIn[5], line 3\u001b[0m\n\u001b[1;32m      1\u001b[0m \u001b[38;5;28;01mif\u001b[39;00m \u001b[38;5;18m__name__\u001b[39m \u001b[38;5;241m==\u001b[39m \u001b[38;5;124m'\u001b[39m\u001b[38;5;124m__main__\u001b[39m\u001b[38;5;124m'\u001b[39m:\n\u001b[1;32m      2\u001b[0m     st \u001b[38;5;241m=\u001b[39m time\u001b[38;5;241m.\u001b[39mtime()\n\u001b[0;32m----> 3\u001b[0m     \u001b[43mparallel_train\u001b[49m\u001b[43m(\u001b[49m\u001b[43mQ\u001b[49m\u001b[43m,\u001b[49m\u001b[43m \u001b[49m\u001b[43mL\u001b[49m\u001b[43m,\u001b[49m\u001b[43m \u001b[49m\u001b[43mW\u001b[49m\u001b[43m,\u001b[49m\u001b[43m \u001b[49m\u001b[43mN\u001b[49m\u001b[43m,\u001b[49m\u001b[43m \u001b[49m\u001b[43mM\u001b[49m\u001b[43m,\u001b[49m\u001b[43m \u001b[49m\u001b[43mU\u001b[49m\u001b[43m,\u001b[49m\u001b[43m \u001b[49m\u001b[43mservice\u001b[49m\u001b[43m,\u001b[49m\u001b[43m \u001b[49m\u001b[43mbackend\u001b[49m\u001b[43m,\u001b[49m\u001b[43m \u001b[49m\u001b[43mparams\u001b[49m\u001b[43m,\u001b[49m\u001b[43m \u001b[49m\u001b[43misFashion\u001b[49m\u001b[38;5;241;43m=\u001b[39;49m\u001b[38;5;28;43;01mTrue\u001b[39;49;00m\u001b[43m)\u001b[49m        \n\u001b[1;32m      4\u001b[0m     \u001b[38;5;28mprint\u001b[39m(\u001b[38;5;124m'\u001b[39m\u001b[38;5;124mImplementation time : \u001b[39m\u001b[38;5;124m'\u001b[39m, time\u001b[38;5;241m.\u001b[39mtime()\u001b[38;5;241m-\u001b[39mst)\n",
      "File \u001b[0;32m~/koyasu_fraxis/training.py:51\u001b[0m, in \u001b[0;36mparallel_train\u001b[0;34m(n_qubits, layer_size, world_size, num_train, num_test, update_iter, service, backend, params, isFashion)\u001b[0m\n\u001b[1;32m     49\u001b[0m \u001b[38;5;28;01mfor\u001b[39;00m i \u001b[38;5;129;01min\u001b[39;00m \u001b[38;5;28mrange\u001b[39m(update_iter):\n\u001b[1;32m     50\u001b[0m     st \u001b[38;5;241m=\u001b[39m time\u001b[38;5;241m.\u001b[39mtime()\n\u001b[0;32m---> 51\u001b[0m     \u001b[43mmodel\u001b[49m\u001b[38;5;241;43m.\u001b[39;49m\u001b[43mfit_and_eval\u001b[49m\u001b[43m(\u001b[49m\u001b[43mtrain_feat\u001b[49m\u001b[43m,\u001b[49m\u001b[43mtrain_label\u001b[49m\u001b[43m,\u001b[49m\u001b[43mtest_feat\u001b[49m\u001b[43m,\u001b[49m\u001b[43mtest_label\u001b[49m\u001b[43m)\u001b[49m\n\u001b[1;32m     52\u001b[0m     \u001b[38;5;28mprint\u001b[39m(time\u001b[38;5;241m.\u001b[39mtime()\u001b[38;5;241m-\u001b[39mst)\n\u001b[1;32m     53\u001b[0m     \u001b[38;5;28mprint\u001b[39m(\u001b[38;5;124m'\u001b[39m\u001b[38;5;124m_______________NEW________________\u001b[39m\u001b[38;5;124m'\u001b[39m,i)\n",
      "File \u001b[0;32m~/koyasu_fraxis/model.py:81\u001b[0m, in \u001b[0;36mFraxClassify.fit_and_eval\u001b[0;34m(self, X, y, X2, y2)\u001b[0m\n\u001b[1;32m     75\u001b[0m     qcs[d]\u001b[38;5;241m.\u001b[39mmeasure(\u001b[38;5;28mrange\u001b[39m(\u001b[38;5;241m0\u001b[39m, \u001b[38;5;28mself\u001b[39m\u001b[38;5;241m.\u001b[39mworld_size \u001b[38;5;241m*\u001b[39m \u001b[38;5;28mself\u001b[39m\u001b[38;5;241m.\u001b[39mn_qubits, \u001b[38;5;28mself\u001b[39m\u001b[38;5;241m.\u001b[39mn_qubits), \u001b[38;5;28mrange\u001b[39m(\u001b[38;5;28mself\u001b[39m\u001b[38;5;241m.\u001b[39mworld_size))\n\u001b[1;32m     77\u001b[0m transpiled_circuits \u001b[38;5;241m=\u001b[39m transpile(qcs, backend\u001b[38;5;241m=\u001b[39m\u001b[38;5;28mself\u001b[39m\u001b[38;5;241m.\u001b[39mbackend)\n\u001b[1;32m     79\u001b[0m result \u001b[38;5;241m=\u001b[39m \u001b[43msampler\u001b[49m\u001b[38;5;241;43m.\u001b[39;49m\u001b[43mrun\u001b[49m\u001b[43m(\u001b[49m\n\u001b[1;32m     80\u001b[0m \u001b[43m    \u001b[49m\u001b[43mcircuits\u001b[49m\u001b[38;5;241;43m=\u001b[39;49m\u001b[43mtranspiled_circuits\u001b[49m\n\u001b[0;32m---> 81\u001b[0m \u001b[43m\u001b[49m\u001b[43m)\u001b[49m\u001b[38;5;241;43m.\u001b[39;49m\u001b[43mresult\u001b[49m\u001b[43m(\u001b[49m\u001b[43m)\u001b[49m\u001b[38;5;241m.\u001b[39mquasi_dists\n\u001b[1;32m     83\u001b[0m r6s \u001b[38;5;241m=\u001b[39m np\u001b[38;5;241m.\u001b[39mzeros((\u001b[38;5;241m6\u001b[39m, \u001b[38;5;28mself\u001b[39m\u001b[38;5;241m.\u001b[39mworld_size))\n\u001b[1;32m     84\u001b[0m \u001b[38;5;28;01mfor\u001b[39;00m d \u001b[38;5;129;01min\u001b[39;00m \u001b[38;5;28mrange\u001b[39m(\u001b[38;5;241m6\u001b[39m):\n",
      "File \u001b[0;32m/opt/conda/lib/python3.10/site-packages/qiskit_ibm_runtime/runtime_job.py:224\u001b[0m, in \u001b[0;36mRuntimeJob.result\u001b[0;34m(self, timeout, decoder)\u001b[0m\n\u001b[1;32m    222\u001b[0m     \u001b[38;5;28;01mif\u001b[39;00m \u001b[38;5;28mself\u001b[39m\u001b[38;5;241m.\u001b[39m_reason \u001b[38;5;241m==\u001b[39m \u001b[38;5;124m\"\u001b[39m\u001b[38;5;124mRAN TOO LONG\u001b[39m\u001b[38;5;124m\"\u001b[39m:\n\u001b[1;32m    223\u001b[0m         \u001b[38;5;28;01mraise\u001b[39;00m RuntimeJobMaxTimeoutError(error_message)\n\u001b[0;32m--> 224\u001b[0m     \u001b[38;5;28;01mraise\u001b[39;00m RuntimeJobFailureError(\n\u001b[1;32m    225\u001b[0m         \u001b[38;5;124mf\u001b[39m\u001b[38;5;124m\"\u001b[39m\u001b[38;5;124mUnable to retrieve job result. \u001b[39m\u001b[38;5;124m\"\u001b[39m \u001b[38;5;124mf\u001b[39m\u001b[38;5;124m\"\u001b[39m\u001b[38;5;132;01m{\u001b[39;00merror_message\u001b[38;5;132;01m}\u001b[39;00m\u001b[38;5;124m\"\u001b[39m\n\u001b[1;32m    226\u001b[0m     )\n\u001b[1;32m    228\u001b[0m result_raw \u001b[38;5;241m=\u001b[39m \u001b[38;5;28mself\u001b[39m\u001b[38;5;241m.\u001b[39m_download_external_result(\n\u001b[1;32m    229\u001b[0m     \u001b[38;5;28mself\u001b[39m\u001b[38;5;241m.\u001b[39m_api_client\u001b[38;5;241m.\u001b[39mjob_results(job_id\u001b[38;5;241m=\u001b[39m\u001b[38;5;28mself\u001b[39m\u001b[38;5;241m.\u001b[39mjob_id())\n\u001b[1;32m    230\u001b[0m )\n\u001b[1;32m    232\u001b[0m \u001b[38;5;28mself\u001b[39m\u001b[38;5;241m.\u001b[39m_results \u001b[38;5;241m=\u001b[39m _decoder\u001b[38;5;241m.\u001b[39mdecode(result_raw) \u001b[38;5;28;01mif\u001b[39;00m result_raw \u001b[38;5;28;01melse\u001b[39;00m \u001b[38;5;28;01mNone\u001b[39;00m\n",
      "\u001b[0;31mRuntimeJobFailureError\u001b[0m: 'Unable to retrieve job result. Job cgf580ni6pt7tfrpdp6g has failed:\\n2023-03-25T01:52:48.563992650Z Setting up watches.\\n2023-03-25T01:52:48.564055999Z Watches established.\\n2023-03-25T01:52:50.111555039Z INFO:     Started server process [8]\\n2023-03-25T01:52:50.111773154Z INFO:     Waiting for application startup.\\n2023-03-25T01:52:50.112202933Z INFO:     Application startup complete.\\n2023-03-25T01:52:50.114310148Z INFO:     Uvicorn running on http://127.0.0.1:8081 (Press CTRL+C to quit)\\n2023-03-25T01:53:07.053540287Z INFO:     127.0.0.1:50050 - \"POST /run HTTP/1.1\" 202 Accepted\\n2023-03-25T01:53:07.149784301Z program - WARNING Backend (aer_simulator_matrix_product_state) does not support dynamical decoupling.\\n2023-03-25T01:53:09.591911314Z /pod-data/ CLOSE_WRITE,CLOSE terminated\\n2023-03-25T01:53:09.591944041Z Termination marker file found. Kill process (8).\\n2023-03-25T01:53:09.606985302Z /bin/bash: line 3:     8 Killed                  python -m uvicorn server.main:app --port 8081\\n2023-03-25T01:53:09.608580693Z Termination signal received, exited.\\n'"
     ]
    }
   ],
   "source": [
    "%tb"
   ]
  },
  {
   "cell_type": "code",
   "execution_count": null,
   "id": "86d6c4f4-6b97-4624-9e19-f8a3464efb00",
   "metadata": {},
   "outputs": [],
   "source": []
  }
 ],
 "metadata": {
  "kernelspec": {
   "display_name": "Python 3 (ipykernel)",
   "language": "python",
   "name": "python3"
  },
  "language_info": {
   "codemirror_mode": {
    "name": "ipython",
    "version": 3
   },
   "file_extension": ".py",
   "mimetype": "text/x-python",
   "name": "python",
   "nbconvert_exporter": "python",
   "pygments_lexer": "ipython3",
   "version": "3.10.8"
  },
  "widgets": {
   "application/vnd.jupyter.widget-state+json": {
    "state": {},
    "version_major": 2,
    "version_minor": 0
   }
  }
 },
 "nbformat": 4,
 "nbformat_minor": 5
}
