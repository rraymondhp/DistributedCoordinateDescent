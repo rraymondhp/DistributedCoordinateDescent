{
 "cells": [
  {
   "cell_type": "code",
   "execution_count": 1,
   "id": "5cbdcbcc-f88a-4348-9ce6-80eb38bc273b",
   "metadata": {},
   "outputs": [
    {
     "data": {
      "text/plain": [
       "'/home/jovyan/koyasu_fraxis'"
      ]
     },
     "execution_count": 1,
     "metadata": {},
     "output_type": "execute_result"
    }
   ],
   "source": [
    "import sys\n",
    "import os\n",
    "os.getcwd()"
   ]
  },
  {
   "cell_type": "code",
   "execution_count": 2,
   "id": "9be270ba-b0a2-406a-9ed6-9834041eb80c",
   "metadata": {},
   "outputs": [
    {
     "name": "stderr",
     "output_type": "stream",
     "text": [
      "<frozen importlib._bootstrap>:219: RuntimeWarning: scipy._lib.messagestream.MessageStream size changed, may indicate binary incompatibility. Expected 56 from C header, got 64 from PyObject\n"
     ]
    }
   ],
   "source": [
    "import sys\n",
    "sys.path.append('/home/jovyan/koyasu_fraxis')\n",
    "import os\n",
    "from training import parallel_train\n",
    "import time\n",
    "import numpy as np"
   ]
  },
  {
   "cell_type": "code",
   "execution_count": 3,
   "id": "a7f3baf2-85ff-456f-b630-48d760e91ea2",
   "metadata": {},
   "outputs": [],
   "source": [
    "from qiskit_ibm_runtime import QiskitRuntimeService\n",
    "\n",
    "# Save your credentials on disk.\n",
    "# QiskitRuntimeService.save_account(channel='ibm_quantum', token=<IBM Quantum API key>)\n",
    "\n",
    "service = QiskitRuntimeService(\n",
    "    channel='ibm_quantum',\n",
    "    instance='ibm-q-utokyo/internal/hirashi-jst',\n",
    ")\n",
    "\n",
    "#service = QiskitRuntimeService(\n",
    "#    channel='ibm_quantum',\n",
    "#    instance='ibm-q-utokyo/internal/cs-slecture8',\n",
    "#)"
   ]
  },
  {
   "cell_type": "code",
   "execution_count": 4,
   "id": "f0260f61-ad66-4395-8db7-99204235c6cd",
   "metadata": {},
   "outputs": [],
   "source": [
    "Q = 5 #number of qubits\n",
    "L = 1 #number of fraxis layer\n",
    "W = 5 #number of quantum node\n",
    "N = 100 #number of training data size\n",
    "M = 100 #number of testing data size\n",
    "U = 2  #number of update\n",
    "backend = service.backend('ibm_kawasaki')\n",
    "params = np.zeros((L, Q, 3))+np.array([0, 0, 1])"
   ]
  },
  {
   "cell_type": "code",
   "execution_count": 5,
   "id": "6b4c4556-4e12-489f-80f3-a347e53b1cc4",
   "metadata": {},
   "outputs": [
    {
     "name": "stdout",
     "output_type": "stream",
     "text": [
      "47.3838730812154\n",
      "ACC_train:  74.0 \n",
      "SCORE_train:  46.807005189446535\n",
      "ACC_test:  76.0 \n",
      "SCORE_test:  57.52271660795625\n",
      "[[[-0.69671648  0.13627535 -0.70428345]\n",
      "  [ 0.          0.          1.        ]\n",
      "  [ 0.          0.          1.        ]\n",
      "  [ 0.          0.          1.        ]\n",
      "  [ 0.          0.          1.        ]]]\n",
      "48.76246486730975\n",
      "ACC_train:  76.0 \n",
      "SCORE_train:  48.58407972191323\n",
      "ACC_test:  79.0 \n",
      "SCORE_test:  57.57669967649308\n",
      "[[[-0.69671648  0.13627535 -0.70428345]\n",
      "  [-0.51828385 -0.09631015 -0.84976832]\n",
      "  [ 0.          0.          1.        ]\n",
      "  [ 0.          0.          1.        ]\n",
      "  [ 0.          0.          1.        ]]]\n",
      "52.530302102172286\n",
      "ACC_train:  79.0 \n",
      "SCORE_train:  49.51224098005602\n",
      "ACC_test:  78.0 \n",
      "SCORE_test:  56.829950007975604\n",
      "[[[-0.69671648  0.13627535 -0.70428345]\n",
      "  [-0.51828385 -0.09631015 -0.84976832]\n",
      "  [-0.57316334 -0.6200251  -0.53577296]\n",
      "  [ 0.          0.          1.        ]\n",
      "  [ 0.          0.          1.        ]]]\n",
      "48.92318854659865\n",
      "ACC_train:  78.0 \n",
      "SCORE_train:  50.13946090778964\n",
      "ACC_test:  76.0 \n",
      "SCORE_test:  55.539092356909656\n",
      "[[[-0.69671648  0.13627535 -0.70428345]\n",
      "  [-0.51828385 -0.09631015 -0.84976832]\n",
      "  [-0.57316334 -0.6200251  -0.53577296]\n",
      "  [-0.36143429 -0.44134293 -0.82132921]\n",
      "  [ 0.          0.          1.        ]]]\n",
      "50.363315145230594\n",
      "ACC_train:  75.0 \n",
      "SCORE_train:  48.88702554441102\n",
      "ACC_test:  77.0 \n",
      "SCORE_test:  57.74784935991393\n",
      "[[[-0.69671648  0.13627535 -0.70428345]\n",
      "  [-0.51828385 -0.09631015 -0.84976832]\n",
      "  [-0.57316334 -0.6200251  -0.53577296]\n",
      "  [-0.36143429 -0.44134293 -0.82132921]\n",
      "  [ 0.67119745 -0.48834211  0.55768805]]]\n",
      "19338.22708439827\n",
      "_______________NEW________________ 0\n",
      "40.49589572960927\n",
      "ACC_train:  79.0 \n",
      "SCORE_train:  50.43616255245569\n",
      "ACC_test:  76.0 \n",
      "SCORE_test:  55.27817105970637\n",
      "[[[ 0.70440946 -0.15217648  0.693289  ]\n",
      "  [-0.51828385 -0.09631015 -0.84976832]\n",
      "  [-0.57316334 -0.6200251  -0.53577296]\n",
      "  [-0.36143429 -0.44134293 -0.82132921]\n",
      "  [ 0.67119745 -0.48834211  0.55768805]]]\n",
      "44.76883846746376\n",
      "ACC_train:  77.0 \n",
      "SCORE_train:  48.77399705312114\n",
      "ACC_test:  76.0 \n",
      "SCORE_test:  55.85990374304812\n",
      "[[[ 0.70440946 -0.15217648  0.693289  ]\n",
      "  [-0.55818533 -0.48376143 -0.67409496]\n",
      "  [-0.57316334 -0.6200251  -0.53577296]\n",
      "  [-0.36143429 -0.44134293 -0.82132921]\n",
      "  [ 0.67119745 -0.48834211  0.55768805]]]\n",
      "Traceback \u001b[1;36m(most recent call last)\u001b[0m:\n",
      "  Input \u001b[0;32mIn [5]\u001b[0m in \u001b[0;35m<cell line: 1>\u001b[0m\n",
      "    parallel_train(Q, L, W, N, M, U, service, backend, params)\n",
      "  File \u001b[0;32m~/koyasu_fraxis/training.py:42\u001b[0m in \u001b[0;35mparallel_train\u001b[0m\n",
      "    model.fit_and_eval(train_feat,train_label,test_feat,test_label)\n",
      "  File \u001b[0;32m~/koyasu_fraxis/model.py:79\u001b[0m in \u001b[0;35mfit_and_eval\u001b[0m\n",
      "    result = sampler.run(\n",
      "  File \u001b[0;32m/opt/conda/lib/python3.8/site-packages/qiskit_ibm_runtime/sampler.py:214\u001b[0m in \u001b[0;35mrun\u001b[0m\n",
      "    return super().run(\n",
      "  File \u001b[0;32m/opt/conda/lib/python3.8/site-packages/qiskit/primitives/base/base_sampler.py:184\u001b[0m in \u001b[0;35mrun\u001b[0m\n",
      "    return self._run(\n",
      "  File \u001b[0;32m/opt/conda/lib/python3.8/site-packages/qiskit_ibm_runtime/sampler.py:267\u001b[0m in \u001b[0;35m_run\u001b[0m\n",
      "    return self._session.run(\n",
      "  File \u001b[0;32m/opt/conda/lib/python3.8/site-packages/qiskit_ibm_runtime/session.py:36\u001b[0m in \u001b[0;35m_wrapper\u001b[0m\n",
      "    return func(self, *args, **kwargs)\n",
      "  File \u001b[0;32m/opt/conda/lib/python3.8/site-packages/qiskit_ibm_runtime/session.py:151\u001b[0m in \u001b[0;35mrun\u001b[0m\n",
      "    job = self._service.run(\n",
      "\u001b[1;36m  File \u001b[1;32m/opt/conda/lib/python3.8/site-packages/qiskit_ibm_runtime/qiskit_runtime_service.py:962\u001b[1;36m in \u001b[1;35mrun\u001b[1;36m\u001b[0m\n",
      "\u001b[1;33m    raise IBMRuntimeError(f\"Failed to run program: {ex}\") from None\u001b[0m\n",
      "\u001b[1;31mIBMRuntimeError\u001b[0m\u001b[1;31m:\u001b[0m 'Failed to run program: \\'400 Client Error: Bad Request for url: https://runtime-us-east.quantum-computing.ibm.com/jobs. {\"errors\":[{\"code\":\"bad_request\",\"message\":\"session closed: Session cg4nkavvd9sb5bf41390 has been closed\",\"more_info\":\"https://cloud.ibm.com/apidocs/quantum-computing#error-handling\"}],\"trace\":\"cg4ulo7vd9sb5bf9t41g\"}\\''\n",
      "\n",
      "Use %tb to get the full traceback.\n"
     ]
    },
    {
     "data": {
      "text/html": [
       "\n",
       "<style>\n",
       ".button {\n",
       "  border: none;\n",
       "  color: white;\n",
       "  padding: 4px 8px;\n",
       "  text-align: center;\n",
       "  text-decoration: none;\n",
       "  display: inline-block;\n",
       "  font-size: 12px;\n",
       "  margin: 4px 2px;\n",
       "  transition-duration: 0.2s;\n",
       "  cursor: pointer;\n",
       "}\n",
       ".iqx-button {\n",
       "  background-color: #0f62fe; \n",
       "  color: white; \n",
       "}\n",
       ".iqx-button:hover {\n",
       "  background-color: #0043ce;\n",
       "  color: white;\n",
       "}\n",
       "</style>\n",
       "<a href=\"https://stackoverflow.com/search?q=IBMRuntimeError: Failed to run program: '400 Client Error: Bad Request for url: https://runtime-us-east.quantum-computing.ibm.com/jobs. {\"errors\":[{\"code\":\"bad_request\",\"message\":\"session closed: Session cg4nkavvd9sb5bf41390 has been closed\",\"more_info\":\"https://cloud.ibm.com/apidocs/quantum-computing#error-handling\"}],\"trace\":\"cg4ulo7vd9sb5bf9t41g\"}'\" target='_blank'><button class='button iqx-button'>Search for solution online</button></a>\n"
      ],
      "text/plain": [
       "<IPython.core.display.HTML object>"
      ]
     },
     "metadata": {},
     "output_type": "display_data"
    }
   ],
   "source": [
    "if __name__ == '__main__':\n",
    "    st = time.time()\n",
    "    parallel_train(Q, L, W, N, M, U, service, backend, params)        \n",
    "    print('Implementation time : ', time.time()-st)"
   ]
  },
  {
   "cell_type": "code",
   "execution_count": 6,
   "id": "039acf71-83a6-404d-9c95-022854ba035b",
   "metadata": {},
   "outputs": [
    {
     "ename": "IBMRuntimeError",
     "evalue": "'Failed to run program: \\'400 Client Error: Bad Request for url: https://runtime-us-east.quantum-computing.ibm.com/jobs. {\"errors\":[{\"code\":\"bad_request\",\"message\":\"session closed: Session cg4nkavvd9sb5bf41390 has been closed\",\"more_info\":\"https://cloud.ibm.com/apidocs/quantum-computing#error-handling\"}],\"trace\":\"cg4ulo7vd9sb5bf9t41g\"}\\''",
     "output_type": "error",
     "traceback": [
      "\u001b[0;31m---------------------------------------------------------------------------\u001b[0m",
      "\u001b[0;31mIBMRuntimeError\u001b[0m                           Traceback (most recent call last)",
      "Input \u001b[0;32mIn [5]\u001b[0m, in \u001b[0;36m<cell line: 1>\u001b[0;34m()\u001b[0m\n\u001b[1;32m      1\u001b[0m \u001b[38;5;28;01mif\u001b[39;00m \u001b[38;5;18m__name__\u001b[39m \u001b[38;5;241m==\u001b[39m \u001b[38;5;124m'\u001b[39m\u001b[38;5;124m__main__\u001b[39m\u001b[38;5;124m'\u001b[39m:\n\u001b[1;32m      2\u001b[0m     st \u001b[38;5;241m=\u001b[39m time\u001b[38;5;241m.\u001b[39mtime()\n\u001b[0;32m----> 3\u001b[0m     \u001b[43mparallel_train\u001b[49m\u001b[43m(\u001b[49m\u001b[43mQ\u001b[49m\u001b[43m,\u001b[49m\u001b[43m \u001b[49m\u001b[43mL\u001b[49m\u001b[43m,\u001b[49m\u001b[43m \u001b[49m\u001b[43mW\u001b[49m\u001b[43m,\u001b[49m\u001b[43m \u001b[49m\u001b[43mN\u001b[49m\u001b[43m,\u001b[49m\u001b[43m \u001b[49m\u001b[43mM\u001b[49m\u001b[43m,\u001b[49m\u001b[43m \u001b[49m\u001b[43mU\u001b[49m\u001b[43m,\u001b[49m\u001b[43m \u001b[49m\u001b[43mservice\u001b[49m\u001b[43m,\u001b[49m\u001b[43m \u001b[49m\u001b[43mbackend\u001b[49m\u001b[43m,\u001b[49m\u001b[43m \u001b[49m\u001b[43mparams\u001b[49m\u001b[43m)\u001b[49m        \n\u001b[1;32m      4\u001b[0m     \u001b[38;5;28mprint\u001b[39m(\u001b[38;5;124m'\u001b[39m\u001b[38;5;124mImplementation time : \u001b[39m\u001b[38;5;124m'\u001b[39m, time\u001b[38;5;241m.\u001b[39mtime()\u001b[38;5;241m-\u001b[39mst)\n",
      "File \u001b[0;32m~/koyasu_fraxis/training.py:42\u001b[0m, in \u001b[0;36mparallel_train\u001b[0;34m(n_qubits, layer_size, world_size, num_train, num_test, update_iter, service, backend, params)\u001b[0m\n\u001b[1;32m     40\u001b[0m \u001b[38;5;28;01mfor\u001b[39;00m i \u001b[38;5;129;01min\u001b[39;00m \u001b[38;5;28mrange\u001b[39m(update_iter):\n\u001b[1;32m     41\u001b[0m     st \u001b[38;5;241m=\u001b[39m time\u001b[38;5;241m.\u001b[39mtime()\n\u001b[0;32m---> 42\u001b[0m     \u001b[43mmodel\u001b[49m\u001b[38;5;241;43m.\u001b[39;49m\u001b[43mfit_and_eval\u001b[49m\u001b[43m(\u001b[49m\u001b[43mtrain_feat\u001b[49m\u001b[43m,\u001b[49m\u001b[43mtrain_label\u001b[49m\u001b[43m,\u001b[49m\u001b[43mtest_feat\u001b[49m\u001b[43m,\u001b[49m\u001b[43mtest_label\u001b[49m\u001b[43m)\u001b[49m\n\u001b[1;32m     43\u001b[0m     \u001b[38;5;28mprint\u001b[39m(time\u001b[38;5;241m.\u001b[39mtime()\u001b[38;5;241m-\u001b[39mst)\n\u001b[1;32m     44\u001b[0m     \u001b[38;5;28mprint\u001b[39m(\u001b[38;5;124m'\u001b[39m\u001b[38;5;124m_______________NEW________________\u001b[39m\u001b[38;5;124m'\u001b[39m,i)\n",
      "File \u001b[0;32m~/koyasu_fraxis/model.py:79\u001b[0m, in \u001b[0;36mFraxClassify.fit_and_eval\u001b[0;34m(self, X, y, X2, y2)\u001b[0m\n\u001b[1;32m     75\u001b[0m     qcs[d]\u001b[38;5;241m.\u001b[39mmeasure(\u001b[38;5;28mrange\u001b[39m(\u001b[38;5;241m0\u001b[39m, \u001b[38;5;28mself\u001b[39m\u001b[38;5;241m.\u001b[39mworld_size \u001b[38;5;241m*\u001b[39m \u001b[38;5;28mself\u001b[39m\u001b[38;5;241m.\u001b[39mn_qubits, \u001b[38;5;28mself\u001b[39m\u001b[38;5;241m.\u001b[39mn_qubits), \u001b[38;5;28mrange\u001b[39m(\u001b[38;5;28mself\u001b[39m\u001b[38;5;241m.\u001b[39mworld_size))\n\u001b[1;32m     77\u001b[0m transpiled_circuits \u001b[38;5;241m=\u001b[39m transpile(qcs, backend\u001b[38;5;241m=\u001b[39m\u001b[38;5;28mself\u001b[39m\u001b[38;5;241m.\u001b[39mbackend)\n\u001b[0;32m---> 79\u001b[0m result \u001b[38;5;241m=\u001b[39m \u001b[43msampler\u001b[49m\u001b[38;5;241;43m.\u001b[39;49m\u001b[43mrun\u001b[49m\u001b[43m(\u001b[49m\n\u001b[1;32m     80\u001b[0m \u001b[43m    \u001b[49m\u001b[43mcircuits\u001b[49m\u001b[38;5;241;43m=\u001b[39;49m\u001b[43mtranspiled_circuits\u001b[49m\n\u001b[1;32m     81\u001b[0m \u001b[43m\u001b[49m\u001b[43m)\u001b[49m\u001b[38;5;241m.\u001b[39mresult()\u001b[38;5;241m.\u001b[39mquasi_dists\n\u001b[1;32m     83\u001b[0m r6s \u001b[38;5;241m=\u001b[39m np\u001b[38;5;241m.\u001b[39mzeros((\u001b[38;5;241m6\u001b[39m, \u001b[38;5;28mself\u001b[39m\u001b[38;5;241m.\u001b[39mworld_size))\n\u001b[1;32m     84\u001b[0m \u001b[38;5;28;01mfor\u001b[39;00m d \u001b[38;5;129;01min\u001b[39;00m \u001b[38;5;28mrange\u001b[39m(\u001b[38;5;241m6\u001b[39m):\n",
      "File \u001b[0;32m/opt/conda/lib/python3.8/site-packages/qiskit_ibm_runtime/sampler.py:214\u001b[0m, in \u001b[0;36mSampler.run\u001b[0;34m(self, circuits, parameter_values, **kwargs)\u001b[0m\n\u001b[1;32m    212\u001b[0m \u001b[38;5;66;03m# To bypass base class merging of options.\u001b[39;00m\n\u001b[1;32m    213\u001b[0m user_kwargs \u001b[38;5;241m=\u001b[39m {\u001b[38;5;124m\"\u001b[39m\u001b[38;5;124m_user_kwargs\u001b[39m\u001b[38;5;124m\"\u001b[39m: kwargs}\n\u001b[0;32m--> 214\u001b[0m \u001b[38;5;28;01mreturn\u001b[39;00m \u001b[38;5;28;43msuper\u001b[39;49m\u001b[43m(\u001b[49m\u001b[43m)\u001b[49m\u001b[38;5;241;43m.\u001b[39;49m\u001b[43mrun\u001b[49m\u001b[43m(\u001b[49m\n\u001b[1;32m    215\u001b[0m \u001b[43m    \u001b[49m\u001b[43mcircuits\u001b[49m\u001b[38;5;241;43m=\u001b[39;49m\u001b[43mcircuits\u001b[49m\u001b[43m,\u001b[49m\n\u001b[1;32m    216\u001b[0m \u001b[43m    \u001b[49m\u001b[43mparameter_values\u001b[49m\u001b[38;5;241;43m=\u001b[39;49m\u001b[43mparameter_values\u001b[49m\u001b[43m,\u001b[49m\n\u001b[1;32m    217\u001b[0m \u001b[43m    \u001b[49m\u001b[38;5;241;43m*\u001b[39;49m\u001b[38;5;241;43m*\u001b[39;49m\u001b[43muser_kwargs\u001b[49m\u001b[43m,\u001b[49m\n\u001b[1;32m    218\u001b[0m \u001b[43m\u001b[49m\u001b[43m)\u001b[49m\n",
      "File \u001b[0;32m/opt/conda/lib/python3.8/site-packages/qiskit/primitives/base/base_sampler.py:184\u001b[0m, in \u001b[0;36mBaseSampler.run\u001b[0;34m(self, circuits, parameter_values, **run_options)\u001b[0m\n\u001b[1;32m    181\u001b[0m run_opts \u001b[38;5;241m=\u001b[39m copy(\u001b[38;5;28mself\u001b[39m\u001b[38;5;241m.\u001b[39moptions)\n\u001b[1;32m    182\u001b[0m run_opts\u001b[38;5;241m.\u001b[39mupdate_options(\u001b[38;5;241m*\u001b[39m\u001b[38;5;241m*\u001b[39mrun_options)\n\u001b[0;32m--> 184\u001b[0m \u001b[38;5;28;01mreturn\u001b[39;00m \u001b[38;5;28;43mself\u001b[39;49m\u001b[38;5;241;43m.\u001b[39;49m\u001b[43m_run\u001b[49m\u001b[43m(\u001b[49m\n\u001b[1;32m    185\u001b[0m \u001b[43m    \u001b[49m\u001b[43mcircuits\u001b[49m\u001b[43m,\u001b[49m\n\u001b[1;32m    186\u001b[0m \u001b[43m    \u001b[49m\u001b[43mparameter_values\u001b[49m\u001b[43m,\u001b[49m\n\u001b[1;32m    187\u001b[0m \u001b[43m    \u001b[49m\u001b[38;5;241;43m*\u001b[39;49m\u001b[38;5;241;43m*\u001b[39;49m\u001b[43mrun_opts\u001b[49m\u001b[38;5;241;43m.\u001b[39;49m\u001b[38;5;18;43m__dict__\u001b[39;49m\u001b[43m,\u001b[49m\n\u001b[1;32m    188\u001b[0m \u001b[43m\u001b[49m\u001b[43m)\u001b[49m\n",
      "File \u001b[0;32m/opt/conda/lib/python3.8/site-packages/qiskit_ibm_runtime/sampler.py:267\u001b[0m, in \u001b[0;36mSampler._run\u001b[0;34m(self, circuits, parameter_values, **kwargs)\u001b[0m\n\u001b[1;32m    264\u001b[0m logger\u001b[38;5;241m.\u001b[39minfo(\u001b[38;5;124m\"\u001b[39m\u001b[38;5;124mSubmitting job using options \u001b[39m\u001b[38;5;132;01m%s\u001b[39;00m\u001b[38;5;124m\"\u001b[39m, combined)\n\u001b[1;32m    265\u001b[0m inputs\u001b[38;5;241m.\u001b[39mupdate(Options\u001b[38;5;241m.\u001b[39m_get_program_inputs(combined))\n\u001b[0;32m--> 267\u001b[0m \u001b[38;5;28;01mreturn\u001b[39;00m \u001b[38;5;28;43mself\u001b[39;49m\u001b[38;5;241;43m.\u001b[39;49m\u001b[43m_session\u001b[49m\u001b[38;5;241;43m.\u001b[39;49m\u001b[43mrun\u001b[49m\u001b[43m(\u001b[49m\n\u001b[1;32m    268\u001b[0m \u001b[43m    \u001b[49m\u001b[43mprogram_id\u001b[49m\u001b[38;5;241;43m=\u001b[39;49m\u001b[38;5;28;43mself\u001b[39;49m\u001b[38;5;241;43m.\u001b[39;49m\u001b[43m_PROGRAM_ID\u001b[49m\u001b[43m,\u001b[49m\n\u001b[1;32m    269\u001b[0m \u001b[43m    \u001b[49m\u001b[43minputs\u001b[49m\u001b[38;5;241;43m=\u001b[39;49m\u001b[43minputs\u001b[49m\u001b[43m,\u001b[49m\n\u001b[1;32m    270\u001b[0m \u001b[43m    \u001b[49m\u001b[43moptions\u001b[49m\u001b[38;5;241;43m=\u001b[39;49m\u001b[43mOptions\u001b[49m\u001b[38;5;241;43m.\u001b[39;49m\u001b[43m_get_runtime_options\u001b[49m\u001b[43m(\u001b[49m\u001b[43mcombined\u001b[49m\u001b[43m)\u001b[49m\u001b[43m,\u001b[49m\n\u001b[1;32m    271\u001b[0m \u001b[43m    \u001b[49m\u001b[43mcallback\u001b[49m\u001b[38;5;241;43m=\u001b[39;49m\u001b[43mcombined\u001b[49m\u001b[38;5;241;43m.\u001b[39;49m\u001b[43mget\u001b[49m\u001b[43m(\u001b[49m\u001b[38;5;124;43m\"\u001b[39;49m\u001b[38;5;124;43menvironment\u001b[39;49m\u001b[38;5;124;43m\"\u001b[39;49m\u001b[43m,\u001b[49m\u001b[43m \u001b[49m\u001b[43m{\u001b[49m\u001b[43m}\u001b[49m\u001b[43m)\u001b[49m\u001b[38;5;241;43m.\u001b[39;49m\u001b[43mget\u001b[49m\u001b[43m(\u001b[49m\u001b[38;5;124;43m\"\u001b[39;49m\u001b[38;5;124;43mcallback\u001b[39;49m\u001b[38;5;124;43m\"\u001b[39;49m\u001b[43m,\u001b[49m\u001b[43m \u001b[49m\u001b[38;5;28;43;01mNone\u001b[39;49;00m\u001b[43m)\u001b[49m\u001b[43m,\u001b[49m\n\u001b[1;32m    272\u001b[0m \u001b[43m    \u001b[49m\u001b[43mresult_decoder\u001b[49m\u001b[38;5;241;43m=\u001b[39;49m\u001b[43mDEFAULT_DECODERS\u001b[49m\u001b[38;5;241;43m.\u001b[39;49m\u001b[43mget\u001b[49m\u001b[43m(\u001b[49m\u001b[38;5;28;43mself\u001b[39;49m\u001b[38;5;241;43m.\u001b[39;49m\u001b[43m_PROGRAM_ID\u001b[49m\u001b[43m)\u001b[49m\u001b[43m,\u001b[49m\n\u001b[1;32m    273\u001b[0m \u001b[43m\u001b[49m\u001b[43m)\u001b[49m\n",
      "File \u001b[0;32m/opt/conda/lib/python3.8/site-packages/qiskit_ibm_runtime/session.py:36\u001b[0m, in \u001b[0;36m_active_session.<locals>._wrapper\u001b[0;34m(self, *args, **kwargs)\u001b[0m\n\u001b[1;32m     34\u001b[0m \u001b[38;5;28;01mif\u001b[39;00m \u001b[38;5;129;01mnot\u001b[39;00m \u001b[38;5;28mself\u001b[39m\u001b[38;5;241m.\u001b[39m_active:\n\u001b[1;32m     35\u001b[0m     \u001b[38;5;28;01mraise\u001b[39;00m \u001b[38;5;167;01mRuntimeError\u001b[39;00m(\u001b[38;5;124m\"\u001b[39m\u001b[38;5;124mThe session is closed.\u001b[39m\u001b[38;5;124m\"\u001b[39m)\n\u001b[0;32m---> 36\u001b[0m \u001b[38;5;28;01mreturn\u001b[39;00m \u001b[43mfunc\u001b[49m\u001b[43m(\u001b[49m\u001b[38;5;28;43mself\u001b[39;49m\u001b[43m,\u001b[49m\u001b[43m \u001b[49m\u001b[38;5;241;43m*\u001b[39;49m\u001b[43margs\u001b[49m\u001b[43m,\u001b[49m\u001b[43m \u001b[49m\u001b[38;5;241;43m*\u001b[39;49m\u001b[38;5;241;43m*\u001b[39;49m\u001b[43mkwargs\u001b[49m\u001b[43m)\u001b[49m\n",
      "File \u001b[0;32m/opt/conda/lib/python3.8/site-packages/qiskit_ibm_runtime/session.py:151\u001b[0m, in \u001b[0;36mSession.run\u001b[0;34m(self, program_id, inputs, options, callback, result_decoder)\u001b[0m\n\u001b[1;32m    146\u001b[0m \u001b[38;5;28;01mif\u001b[39;00m \u001b[38;5;129;01mnot\u001b[39;00m \u001b[38;5;28mself\u001b[39m\u001b[38;5;241m.\u001b[39m_session_id:\n\u001b[1;32m    147\u001b[0m     \u001b[38;5;66;03m# TODO: What happens if session max time != first job max time?\u001b[39;00m\n\u001b[1;32m    148\u001b[0m     \u001b[38;5;66;03m# Use session max time if this is first job.\u001b[39;00m\n\u001b[1;32m    149\u001b[0m     options[\u001b[38;5;124m\"\u001b[39m\u001b[38;5;124mmax_execution_time\u001b[39m\u001b[38;5;124m\"\u001b[39m] \u001b[38;5;241m=\u001b[39m \u001b[38;5;28mself\u001b[39m\u001b[38;5;241m.\u001b[39m_max_time\n\u001b[0;32m--> 151\u001b[0m job \u001b[38;5;241m=\u001b[39m \u001b[38;5;28;43mself\u001b[39;49m\u001b[38;5;241;43m.\u001b[39;49m\u001b[43m_service\u001b[49m\u001b[38;5;241;43m.\u001b[39;49m\u001b[43mrun\u001b[49m\u001b[43m(\u001b[49m\n\u001b[1;32m    152\u001b[0m \u001b[43m    \u001b[49m\u001b[43mprogram_id\u001b[49m\u001b[38;5;241;43m=\u001b[39;49m\u001b[43mprogram_id\u001b[49m\u001b[43m,\u001b[49m\n\u001b[1;32m    153\u001b[0m \u001b[43m    \u001b[49m\u001b[43moptions\u001b[49m\u001b[38;5;241;43m=\u001b[39;49m\u001b[43moptions\u001b[49m\u001b[43m,\u001b[49m\n\u001b[1;32m    154\u001b[0m \u001b[43m    \u001b[49m\u001b[43minputs\u001b[49m\u001b[38;5;241;43m=\u001b[39;49m\u001b[43minputs\u001b[49m\u001b[43m,\u001b[49m\n\u001b[1;32m    155\u001b[0m \u001b[43m    \u001b[49m\u001b[43msession_id\u001b[49m\u001b[38;5;241;43m=\u001b[39;49m\u001b[38;5;28;43mself\u001b[39;49m\u001b[38;5;241;43m.\u001b[39;49m\u001b[43m_session_id\u001b[49m\u001b[43m,\u001b[49m\n\u001b[1;32m    156\u001b[0m \u001b[43m    \u001b[49m\u001b[43mstart_session\u001b[49m\u001b[38;5;241;43m=\u001b[39;49m\u001b[38;5;28;43mself\u001b[39;49m\u001b[38;5;241;43m.\u001b[39;49m\u001b[43m_session_id\u001b[49m\u001b[43m \u001b[49m\u001b[38;5;129;43;01mis\u001b[39;49;00m\u001b[43m \u001b[49m\u001b[38;5;28;43;01mNone\u001b[39;49;00m\u001b[43m,\u001b[49m\n\u001b[1;32m    157\u001b[0m \u001b[43m    \u001b[49m\u001b[43mcallback\u001b[49m\u001b[38;5;241;43m=\u001b[39;49m\u001b[43mcallback\u001b[49m\u001b[43m,\u001b[49m\n\u001b[1;32m    158\u001b[0m \u001b[43m    \u001b[49m\u001b[43mresult_decoder\u001b[49m\u001b[38;5;241;43m=\u001b[39;49m\u001b[43mresult_decoder\u001b[49m\u001b[43m,\u001b[49m\n\u001b[1;32m    159\u001b[0m \u001b[43m\u001b[49m\u001b[43m)\u001b[49m\n\u001b[1;32m    161\u001b[0m \u001b[38;5;28;01mif\u001b[39;00m \u001b[38;5;28mself\u001b[39m\u001b[38;5;241m.\u001b[39m_session_id \u001b[38;5;129;01mis\u001b[39;00m \u001b[38;5;28;01mNone\u001b[39;00m:\n\u001b[1;32m    162\u001b[0m     \u001b[38;5;28mself\u001b[39m\u001b[38;5;241m.\u001b[39m_session_id \u001b[38;5;241m=\u001b[39m job\u001b[38;5;241m.\u001b[39mjob_id()\n",
      "File \u001b[0;32m/opt/conda/lib/python3.8/site-packages/qiskit_ibm_runtime/qiskit_runtime_service.py:962\u001b[0m, in \u001b[0;36mQiskitRuntimeService.run\u001b[0;34m(self, program_id, inputs, options, callback, result_decoder, instance, session_id, job_tags, max_execution_time, start_session)\u001b[0m\n\u001b[1;32m    958\u001b[0m     \u001b[38;5;28;01mif\u001b[39;00m ex\u001b[38;5;241m.\u001b[39mstatus_code \u001b[38;5;241m==\u001b[39m \u001b[38;5;241m404\u001b[39m:\n\u001b[1;32m    959\u001b[0m         \u001b[38;5;28;01mraise\u001b[39;00m RuntimeProgramNotFound(\n\u001b[1;32m    960\u001b[0m             \u001b[38;5;124mf\u001b[39m\u001b[38;5;124m\"\u001b[39m\u001b[38;5;124mProgram not found: \u001b[39m\u001b[38;5;132;01m{\u001b[39;00mex\u001b[38;5;241m.\u001b[39mmessage\u001b[38;5;132;01m}\u001b[39;00m\u001b[38;5;124m\"\u001b[39m\n\u001b[1;32m    961\u001b[0m         ) \u001b[38;5;28;01mfrom\u001b[39;00m \u001b[38;5;28mNone\u001b[39m\n\u001b[0;32m--> 962\u001b[0m     \u001b[38;5;28;01mraise\u001b[39;00m IBMRuntimeError(\u001b[38;5;124mf\u001b[39m\u001b[38;5;124m\"\u001b[39m\u001b[38;5;124mFailed to run program: \u001b[39m\u001b[38;5;132;01m{\u001b[39;00mex\u001b[38;5;132;01m}\u001b[39;00m\u001b[38;5;124m\"\u001b[39m) \u001b[38;5;28;01mfrom\u001b[39;00m \u001b[38;5;28mNone\u001b[39m\n\u001b[1;32m    964\u001b[0m \u001b[38;5;28;01mif\u001b[39;00m \u001b[38;5;129;01mnot\u001b[39;00m backend:\n\u001b[1;32m    965\u001b[0m     backend \u001b[38;5;241m=\u001b[39m \u001b[38;5;28mself\u001b[39m\u001b[38;5;241m.\u001b[39mbackend(name\u001b[38;5;241m=\u001b[39mresponse[\u001b[38;5;124m\"\u001b[39m\u001b[38;5;124mbackend\u001b[39m\u001b[38;5;124m\"\u001b[39m])\n",
      "\u001b[0;31mIBMRuntimeError\u001b[0m: 'Failed to run program: \\'400 Client Error: Bad Request for url: https://runtime-us-east.quantum-computing.ibm.com/jobs. {\"errors\":[{\"code\":\"bad_request\",\"message\":\"session closed: Session cg4nkavvd9sb5bf41390 has been closed\",\"more_info\":\"https://cloud.ibm.com/apidocs/quantum-computing#error-handling\"}],\"trace\":\"cg4ulo7vd9sb5bf9t41g\"}\\''"
     ]
    }
   ],
   "source": [
    "%tb"
   ]
  },
  {
   "cell_type": "code",
   "execution_count": null,
   "id": "86d6c4f4-6b97-4624-9e19-f8a3464efb00",
   "metadata": {},
   "outputs": [],
   "source": []
  }
 ],
 "metadata": {
  "kernelspec": {
   "display_name": "Python 3 (ipykernel)",
   "language": "python",
   "name": "python3"
  },
  "language_info": {
   "codemirror_mode": {
    "name": "ipython",
    "version": 3
   },
   "file_extension": ".py",
   "mimetype": "text/x-python",
   "name": "python",
   "nbconvert_exporter": "python",
   "pygments_lexer": "ipython3",
   "version": "3.8.15"
  },
  "widgets": {
   "application/vnd.jupyter.widget-state+json": {
    "state": {},
    "version_major": 2,
    "version_minor": 0
   }
  }
 },
 "nbformat": 4,
 "nbformat_minor": 5
}
